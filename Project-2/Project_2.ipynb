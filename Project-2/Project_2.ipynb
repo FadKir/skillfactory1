{
  "cells": [
    {
      "cell_type": "markdown",
      "id": "42289889-bd57-434e-9637-d3e354756316",
      "metadata": {
        "id": "42289889-bd57-434e-9637-d3e354756316"
      },
      "source": [
        "<center> <img src = https://raw.githubusercontent.com/AndreyRysistov/DatasetsForPandas/main/hh%20label.jpg alt=\"drawing\" style=\"width:400px;\">"
      ]
    },
    {
      "cell_type": "markdown",
      "id": "829cb75b-f14e-4ba8-9195-7ba929a7d656",
      "metadata": {
        "id": "829cb75b-f14e-4ba8-9195-7ba929a7d656",
        "tags": []
      },
      "source": [
        "# <center> Проект: Анализ вакансий из HeadHunter\n",
        "   "
      ]
    },
    {
      "cell_type": "code",
      "execution_count": 1,
      "id": "dccfde33-2452-43fb-a8a5-5c6ebc02a71d",
      "metadata": {
        "id": "dccfde33-2452-43fb-a8a5-5c6ebc02a71d"
      },
      "outputs": [],
      "source": [
        "import pandas as pd\n",
        "import psycopg2"
      ]
    },
    {
      "cell_type": "code",
      "execution_count": 3,
      "id": "G4X_q8KBf7SF",
      "metadata": {
        "id": "G4X_q8KBf7SF"
      },
      "outputs": [],
      "source": [
        "connection = psycopg2.connect(\n",
        "    dbname=DBNAME,\n",
        "    user=USER,\n",
        "    host=HOST,\n",
        "    password=PASSWORD,\n",
        "    port=PORT\n",
        ")"
      ]
    },
    {
      "cell_type": "markdown",
      "id": "0dc6476b-7a00-44f1-ac93-6e3baed33a29",
      "metadata": {
        "id": "0dc6476b-7a00-44f1-ac93-6e3baed33a29"
      },
      "source": [
        "# Юнит 3. Предварительный анализ данных"
      ]
    },
    {
      "cell_type": "markdown",
      "id": "889782b6-8d1c-410e-8920-e57f27917c64",
      "metadata": {
        "id": "889782b6-8d1c-410e-8920-e57f27917c64"
      },
      "source": [
        "1. Напишите запрос, который посчитает количество вакансий в нашей базе (вакансии находятся в таблице vacancies). "
      ]
    },
    {
      "cell_type": "code",
      "execution_count": 6,
      "id": "bc39e68e-ed02-4ee2-9235-7258a2f867a8",
      "metadata": {
        "id": "bc39e68e-ed02-4ee2-9235-7258a2f867a8"
      },
      "outputs": [],
      "source": [
        "# текст запроса\n",
        "# Просчитываем общее кол.-во вакансий по столбецу \"id\", данные заносим в созданый столбец \"Кол-во вакансий\"\n",
        "query_3_1 = f'''SELECT COUNT(id) AS \"Кол-во вакансий\" \n",
        "                FROM public.vacancies''' # Из схеме public таблицы \"vacancies\"\n",
        "# Используем f-строки для удобства передачи параметров"
      ]
    },
    {
      "cell_type": "code",
      "execution_count": 7,
      "id": "7mAwtsk4hEHY",
      "metadata": {
        "id": "7mAwtsk4hEHY"
      },
      "outputs": [
        {
          "name": "stderr",
          "output_type": "stream",
          "text": [
            "C:\\Users\\Professional\\AppData\\Local\\Temp\\ipykernel_9196\\285274537.py:3: UserWarning: pandas only supports SQLAlchemy connectable (engine/connection) or database string URI or sqlite3 DBAPI2 connection. Other DBAPI2 objects are not tested. Please consider using SQLAlchemy.\n",
            "  df_vacancies = pd.read_sql_query(query_3_1, connection)\n"
          ]
        },
        {
          "data": {
            "text/html": [
              "<div>\n",
              "<style scoped>\n",
              "    .dataframe tbody tr th:only-of-type {\n",
              "        vertical-align: middle;\n",
              "    }\n",
              "\n",
              "    .dataframe tbody tr th {\n",
              "        vertical-align: top;\n",
              "    }\n",
              "\n",
              "    .dataframe thead th {\n",
              "        text-align: right;\n",
              "    }\n",
              "</style>\n",
              "<table border=\"1\" class=\"dataframe\">\n",
              "  <thead>\n",
              "    <tr style=\"text-align: right;\">\n",
              "      <th></th>\n",
              "      <th>Кол-во вакансий</th>\n",
              "    </tr>\n",
              "  </thead>\n",
              "  <tbody>\n",
              "    <tr>\n",
              "      <th>0</th>\n",
              "      <td>49197</td>\n",
              "    </tr>\n",
              "  </tbody>\n",
              "</table>\n",
              "</div>"
            ],
            "text/plain": [
              "   Кол-во вакансий\n",
              "0            49197"
            ]
          },
          "execution_count": 7,
          "metadata": {},
          "output_type": "execute_result"
        }
      ],
      "source": [
        "# результат запроса\n",
        "# Используем метод read_sql_query, чтобы получить результаты запроса сразу в виде датафрейма\n",
        "df_vacancies = pd.read_sql_query(query_3_1, connection)\n",
        "df_vacancies"
      ]
    },
    {
      "cell_type": "markdown",
      "id": "b583485d-1f9e-494e-ada4-80ffff7c53d6",
      "metadata": {
        "id": "b583485d-1f9e-494e-ada4-80ffff7c53d6"
      },
      "source": [
        "2. Напишите запрос, который посчитает количество работодателей (таблица employers). "
      ]
    },
    {
      "cell_type": "code",
      "execution_count": 8,
      "id": "5408c52c-3407-4a63-b25b-1aafa2322d28",
      "metadata": {
        "id": "5408c52c-3407-4a63-b25b-1aafa2322d28"
      },
      "outputs": [],
      "source": [
        "# текст запроса\n",
        "# Просчитываем общее кол.-во работодателей по столбецу \"name\", данные заносим в созданый столбец \"Кол-во работодателей\"\n",
        "query_3_2 = f'''SELECT COUNT(name) AS \"Кол-во работодателей\"\n",
        "                FROM public.employers''' # Из схеме public таблицы \"employers\"\n",
        "# Используем f-строки для удобства передачи параметров"
      ]
    },
    {
      "cell_type": "code",
      "execution_count": 9,
      "id": "jVL4eshKhdqc",
      "metadata": {
        "id": "jVL4eshKhdqc"
      },
      "outputs": [
        {
          "name": "stderr",
          "output_type": "stream",
          "text": [
            "C:\\Users\\Professional\\AppData\\Local\\Temp\\ipykernel_9196\\144432154.py:3: UserWarning: pandas only supports SQLAlchemy connectable (engine/connection) or database string URI or sqlite3 DBAPI2 connection. Other DBAPI2 objects are not tested. Please consider using SQLAlchemy.\n",
            "  df_employers = pd.read_sql_query(query_3_2, connection)\n"
          ]
        },
        {
          "data": {
            "text/html": [
              "<div>\n",
              "<style scoped>\n",
              "    .dataframe tbody tr th:only-of-type {\n",
              "        vertical-align: middle;\n",
              "    }\n",
              "\n",
              "    .dataframe tbody tr th {\n",
              "        vertical-align: top;\n",
              "    }\n",
              "\n",
              "    .dataframe thead th {\n",
              "        text-align: right;\n",
              "    }\n",
              "</style>\n",
              "<table border=\"1\" class=\"dataframe\">\n",
              "  <thead>\n",
              "    <tr style=\"text-align: right;\">\n",
              "      <th></th>\n",
              "      <th>Кол-во работодателей</th>\n",
              "    </tr>\n",
              "  </thead>\n",
              "  <tbody>\n",
              "    <tr>\n",
              "      <th>0</th>\n",
              "      <td>23501</td>\n",
              "    </tr>\n",
              "  </tbody>\n",
              "</table>\n",
              "</div>"
            ],
            "text/plain": [
              "   Кол-во работодателей\n",
              "0                 23501"
            ]
          },
          "execution_count": 9,
          "metadata": {},
          "output_type": "execute_result"
        }
      ],
      "source": [
        "# результат запроса\n",
        "# Используем метод read_sql_query, чтобы получить результаты запроса сразу в виде датафрейма\n",
        "df_employers = pd.read_sql_query(query_3_2, connection)\n",
        "df_employers"
      ]
    },
    {
      "cell_type": "markdown",
      "id": "a2bfff1f-c975-4bf6-84be-2185d79dcb76",
      "metadata": {
        "id": "a2bfff1f-c975-4bf6-84be-2185d79dcb76"
      },
      "source": [
        "3. Посчитате с помощью запроса количество регионов (таблица areas)."
      ]
    },
    {
      "cell_type": "code",
      "execution_count": 10,
      "id": "1m8QJwBYhey6",
      "metadata": {
        "id": "1m8QJwBYhey6"
      },
      "outputs": [],
      "source": [
        "# текст запроса\n",
        "# Просчитываем общее кол.-во регионов используемых для анализа по столбецу \"id\", данные заносим в созданый столбец \"Кол-во регионов\"\n",
        "query_3_3 = f'''SELECT COUNT(id) AS \"Кол-во регионов\"\n",
        "                FROM public.areas''' # Из схеме public таблицы \"areas\"\n",
        "# Используем f-строки для удобства передачи параметров"
      ]
    },
    {
      "cell_type": "code",
      "execution_count": 11,
      "id": "EZsn9tlfhe7f",
      "metadata": {
        "id": "EZsn9tlfhe7f"
      },
      "outputs": [
        {
          "name": "stderr",
          "output_type": "stream",
          "text": [
            "C:\\Users\\Professional\\AppData\\Local\\Temp\\ipykernel_9196\\605157076.py:3: UserWarning: pandas only supports SQLAlchemy connectable (engine/connection) or database string URI or sqlite3 DBAPI2 connection. Other DBAPI2 objects are not tested. Please consider using SQLAlchemy.\n",
            "  df_areas = pd.read_sql_query(query_3_3, connection)\n"
          ]
        },
        {
          "data": {
            "text/html": [
              "<div>\n",
              "<style scoped>\n",
              "    .dataframe tbody tr th:only-of-type {\n",
              "        vertical-align: middle;\n",
              "    }\n",
              "\n",
              "    .dataframe tbody tr th {\n",
              "        vertical-align: top;\n",
              "    }\n",
              "\n",
              "    .dataframe thead th {\n",
              "        text-align: right;\n",
              "    }\n",
              "</style>\n",
              "<table border=\"1\" class=\"dataframe\">\n",
              "  <thead>\n",
              "    <tr style=\"text-align: right;\">\n",
              "      <th></th>\n",
              "      <th>Кол-во регионов</th>\n",
              "    </tr>\n",
              "  </thead>\n",
              "  <tbody>\n",
              "    <tr>\n",
              "      <th>0</th>\n",
              "      <td>1362</td>\n",
              "    </tr>\n",
              "  </tbody>\n",
              "</table>\n",
              "</div>"
            ],
            "text/plain": [
              "   Кол-во регионов\n",
              "0             1362"
            ]
          },
          "execution_count": 11,
          "metadata": {},
          "output_type": "execute_result"
        }
      ],
      "source": [
        "# результат запроса\n",
        "# Используем метод read_sql_query, чтобы получить результаты запроса сразу в виде датафрейма\n",
        "df_areas = pd.read_sql_query(query_3_3, connection)\n",
        "df_areas"
      ]
    },
    {
      "cell_type": "markdown",
      "id": "41bb59f3-53cc-4a67-a5bc-bedf573955e4",
      "metadata": {
        "id": "41bb59f3-53cc-4a67-a5bc-bedf573955e4"
      },
      "source": [
        "4. Посчитате с помощью запроса количество сфер деятельности в базе (таблица industries)."
      ]
    },
    {
      "cell_type": "code",
      "execution_count": 12,
      "id": "d286cf4c-707b-4cd2-9190-7ab3587d04a1",
      "metadata": {
        "id": "d286cf4c-707b-4cd2-9190-7ab3587d04a1"
      },
      "outputs": [],
      "source": [
        "# текст запроса\n",
        "# Просчитываем общее кол.-во сфер деятельности попавших в выборку по столбецу \"name\", данные заносим в созданый столбец \"Кол-во сфер деятельности\"\n",
        "query_3_4 = f'''SELECT \n",
        "                    COUNT(name) AS \"Кол-во сфер деятельности\"\n",
        "                FROM public.industries''' # Из схеме public таблицы \"industries\"\n",
        "# Используем f-строки для удобства передачи параметров"
      ]
    },
    {
      "cell_type": "code",
      "execution_count": 13,
      "id": "JYAaoZ4qhfzW",
      "metadata": {
        "id": "JYAaoZ4qhfzW"
      },
      "outputs": [
        {
          "name": "stderr",
          "output_type": "stream",
          "text": [
            "C:\\Users\\Professional\\AppData\\Local\\Temp\\ipykernel_9196\\1910758124.py:3: UserWarning: pandas only supports SQLAlchemy connectable (engine/connection) or database string URI or sqlite3 DBAPI2 connection. Other DBAPI2 objects are not tested. Please consider using SQLAlchemy.\n",
            "  df_industries = pd.read_sql_query(query_3_4, connection)\n"
          ]
        },
        {
          "data": {
            "text/html": [
              "<div>\n",
              "<style scoped>\n",
              "    .dataframe tbody tr th:only-of-type {\n",
              "        vertical-align: middle;\n",
              "    }\n",
              "\n",
              "    .dataframe tbody tr th {\n",
              "        vertical-align: top;\n",
              "    }\n",
              "\n",
              "    .dataframe thead th {\n",
              "        text-align: right;\n",
              "    }\n",
              "</style>\n",
              "<table border=\"1\" class=\"dataframe\">\n",
              "  <thead>\n",
              "    <tr style=\"text-align: right;\">\n",
              "      <th></th>\n",
              "      <th>Кол-во сфер деятельности</th>\n",
              "    </tr>\n",
              "  </thead>\n",
              "  <tbody>\n",
              "    <tr>\n",
              "      <th>0</th>\n",
              "      <td>294</td>\n",
              "    </tr>\n",
              "  </tbody>\n",
              "</table>\n",
              "</div>"
            ],
            "text/plain": [
              "   Кол-во сфер деятельности\n",
              "0                       294"
            ]
          },
          "execution_count": 13,
          "metadata": {},
          "output_type": "execute_result"
        }
      ],
      "source": [
        "# результат запроса\n",
        "# Используем метод read_sql_query, чтобы получить результаты запроса сразу в виде датафрейма\n",
        "df_industries = pd.read_sql_query(query_3_4, connection)\n",
        "df_industries"
      ]
    },
    {
      "cell_type": "markdown",
      "id": "9a8a2181-6914-448b-85f1-38f5f18b8a93",
      "metadata": {
        "id": "9a8a2181-6914-448b-85f1-38f5f18b8a93"
      },
      "source": [
        "***"
      ]
    },
    {
      "cell_type": "markdown",
      "id": "6aa65922",
      "metadata": {},
      "source": [
        "# выводы по предварительному анализу данных\n",
        "По итогам предворительного анализа можно сказать:\n",
        " - Присудствие достаточно большого количества вакансий (49197) в базе данных может указывать на активность рынка труда и наличие разнообразных возможностей для соискателей.\n",
        " - Большое количество компаний и организаций (23501) представленых в базе данных как работодалели, а так же их географическое расположение(база данных содержит информацию о 1362 регионах) указывает на возможность выбора соикателем как в плане выбора работодателя, так и в плане выбора самого места работы.\n",
        " - Сферы деятельности представлены в базе данных 294. Это свидетельствует о разнообразии отраслей и секторов экономики которые нуждаються в рабочих кадрах."
      ]
    },
    {
      "cell_type": "markdown",
      "id": "8d62a9f3-f64e-4fe7-bdac-c4dffa16155e",
      "metadata": {
        "id": "8d62a9f3-f64e-4fe7-bdac-c4dffa16155e"
      },
      "source": [
        "# Юнит 4. Детальный анализ вакансий"
      ]
    },
    {
      "cell_type": "markdown",
      "id": "93053d3d-b284-481a-9cf7-012d7014c0e0",
      "metadata": {
        "id": "93053d3d-b284-481a-9cf7-012d7014c0e0"
      },
      "source": [
        "1. Напишите запрос, который позволит узнать, сколько (cnt) вакансий в каждом регионе (area).\n",
        "Отсортируйте по количеству вакансий в порядке убывания."
      ]
    },
    {
      "cell_type": "code",
      "execution_count": 16,
      "id": "3f069da6-fdc9-4ae7-b514-fafe2675efd3",
      "metadata": {
        "id": "3f069da6-fdc9-4ae7-b514-fafe2675efd3"
      },
      "outputs": [],
      "source": [
        "# текст запроса\n",
        "query_4_1 = f'''SELECT\n",
        "                    COUNT(v.id) AS cnt, /* Просчитываем общее кол.-во вакансий по столбецу \"id\" из таблици v, данные заносим в созданый столбец \"cnt\"*/\n",
        "                    a.name AS area /* Указываем регион по столбецу \"name\" из таблици a, данные заносим в созданый столбец \"area\"*/\n",
        "                FROM public.vacancies v /*Из схеме public таблицы \"vacancies\", задаём таблице алиас v*/\n",
        "                JOIN public.areas a ON a.id = v.area_id /*Внутреннее присоединение из схемы  public таблицы areas, задав ей алиас a, по ключам  id и area_id*/\n",
        "                GROUP BY 2 /* Групируем п оназванию региона*/\n",
        "                ORDER BY 1 DESC /*Сортируем по количеству вакансий в порядке убывания*/\n",
        "                LIMIT 5''' # Выводим первые 5 регионов с максимальным количеством вакансий\n",
        "# Используем f-строки для удобства передачи параметров"
      ]
    },
    {
      "cell_type": "code",
      "execution_count": 17,
      "id": "P7QL86hrjhRJ",
      "metadata": {
        "id": "P7QL86hrjhRJ"
      },
      "outputs": [
        {
          "name": "stderr",
          "output_type": "stream",
          "text": [
            "C:\\Users\\Professional\\AppData\\Local\\Temp\\ipykernel_9196\\2631575504.py:3: UserWarning: pandas only supports SQLAlchemy connectable (engine/connection) or database string URI or sqlite3 DBAPI2 connection. Other DBAPI2 objects are not tested. Please consider using SQLAlchemy.\n",
            "  df_cnt= pd.read_sql_query(query_4_1, connection)\n"
          ]
        },
        {
          "data": {
            "text/html": [
              "<div>\n",
              "<style scoped>\n",
              "    .dataframe tbody tr th:only-of-type {\n",
              "        vertical-align: middle;\n",
              "    }\n",
              "\n",
              "    .dataframe tbody tr th {\n",
              "        vertical-align: top;\n",
              "    }\n",
              "\n",
              "    .dataframe thead th {\n",
              "        text-align: right;\n",
              "    }\n",
              "</style>\n",
              "<table border=\"1\" class=\"dataframe\">\n",
              "  <thead>\n",
              "    <tr style=\"text-align: right;\">\n",
              "      <th></th>\n",
              "      <th>cnt</th>\n",
              "      <th>area</th>\n",
              "    </tr>\n",
              "  </thead>\n",
              "  <tbody>\n",
              "    <tr>\n",
              "      <th>0</th>\n",
              "      <td>5333</td>\n",
              "      <td>Москва</td>\n",
              "    </tr>\n",
              "    <tr>\n",
              "      <th>1</th>\n",
              "      <td>2851</td>\n",
              "      <td>Санкт-Петербург</td>\n",
              "    </tr>\n",
              "    <tr>\n",
              "      <th>2</th>\n",
              "      <td>2112</td>\n",
              "      <td>Минск</td>\n",
              "    </tr>\n",
              "    <tr>\n",
              "      <th>3</th>\n",
              "      <td>2006</td>\n",
              "      <td>Новосибирск</td>\n",
              "    </tr>\n",
              "    <tr>\n",
              "      <th>4</th>\n",
              "      <td>1892</td>\n",
              "      <td>Алматы</td>\n",
              "    </tr>\n",
              "  </tbody>\n",
              "</table>\n",
              "</div>"
            ],
            "text/plain": [
              "    cnt             area\n",
              "0  5333           Москва\n",
              "1  2851  Санкт-Петербург\n",
              "2  2112            Минск\n",
              "3  2006      Новосибирск\n",
              "4  1892           Алматы"
            ]
          },
          "execution_count": 17,
          "metadata": {},
          "output_type": "execute_result"
        }
      ],
      "source": [
        "# результат запроса\n",
        "# Используем метод read_sql_query, чтобы получить результаты запроса сразу в виде датафрейма\n",
        "df_cnt= pd.read_sql_query(query_4_1, connection)\n",
        "df_cnt"
      ]
    },
    {
      "cell_type": "markdown",
      "id": "4266f0b6-1646-492a-88b4-2f6a46502135",
      "metadata": {
        "id": "4266f0b6-1646-492a-88b4-2f6a46502135"
      },
      "source": [
        "2. Напишите запрос, чтобы определить у какого количества вакансий заполнено хотя бы одно из двух полей с зарплатой."
      ]
    },
    {
      "cell_type": "code",
      "execution_count": 18,
      "id": "0c44b350-72eb-4d65-8b54-a1fc449ba9fd",
      "metadata": {
        "id": "0c44b350-72eb-4d65-8b54-a1fc449ba9fd"
      },
      "outputs": [],
      "source": [
        "# текст запроса\n",
        "query_4_2 = f'''SELECT \n",
        "                    COUNT(*) AS \"Кол-во вакансий\" /* Просчитываем кол.-во вакансий, данные заносим в созданый столбец \"Кол-во вакансий\"*/\n",
        "                FROM public.vacancies v /*Из схеме public таблицы \"vacancies\", задаём таблице алиас v*/\n",
        "                WHERE v.salary_from IS NOT NULL OR v.salary_to IS NOT NULL''' # Указываем услови при котором з/п указано хотя бы в одной из зарплатых вилок\n",
        "# Используем f-строки для удобства передачи параметров"
      ]
    },
    {
      "cell_type": "code",
      "execution_count": 19,
      "id": "rhvwaMDkoWTi",
      "metadata": {
        "id": "rhvwaMDkoWTi"
      },
      "outputs": [
        {
          "name": "stderr",
          "output_type": "stream",
          "text": [
            "C:\\Users\\Professional\\AppData\\Local\\Temp\\ipykernel_9196\\2152375433.py:3: UserWarning: pandas only supports SQLAlchemy connectable (engine/connection) or database string URI or sqlite3 DBAPI2 connection. Other DBAPI2 objects are not tested. Please consider using SQLAlchemy.\n",
            "  df_cnt_v = pd.read_sql_query(query_4_2, connection)\n"
          ]
        },
        {
          "data": {
            "text/html": [
              "<div>\n",
              "<style scoped>\n",
              "    .dataframe tbody tr th:only-of-type {\n",
              "        vertical-align: middle;\n",
              "    }\n",
              "\n",
              "    .dataframe tbody tr th {\n",
              "        vertical-align: top;\n",
              "    }\n",
              "\n",
              "    .dataframe thead th {\n",
              "        text-align: right;\n",
              "    }\n",
              "</style>\n",
              "<table border=\"1\" class=\"dataframe\">\n",
              "  <thead>\n",
              "    <tr style=\"text-align: right;\">\n",
              "      <th></th>\n",
              "      <th>Кол-во вакансий</th>\n",
              "    </tr>\n",
              "  </thead>\n",
              "  <tbody>\n",
              "    <tr>\n",
              "      <th>0</th>\n",
              "      <td>24073</td>\n",
              "    </tr>\n",
              "  </tbody>\n",
              "</table>\n",
              "</div>"
            ],
            "text/plain": [
              "   Кол-во вакансий\n",
              "0            24073"
            ]
          },
          "execution_count": 19,
          "metadata": {},
          "output_type": "execute_result"
        }
      ],
      "source": [
        "# результат запроса\n",
        "# Используем метод read_sql_query, чтобы получить результаты запроса сразу в виде датафрейма\n",
        "df_cnt_v = pd.read_sql_query(query_4_2, connection)\n",
        "df_cnt_v"
      ]
    },
    {
      "cell_type": "markdown",
      "id": "635c4d5d-f323-4c66-b428-50a088120aa0",
      "metadata": {
        "id": "635c4d5d-f323-4c66-b428-50a088120aa0"
      },
      "source": [
        "3. Найдите средние значения для нижней и верхней границы зарплатной вилки. Округлите значения до целого."
      ]
    },
    {
      "cell_type": "code",
      "execution_count": 20,
      "id": "603cdbe4-0ec3-4106-8eaf-c73fcdd29165",
      "metadata": {
        "id": "603cdbe4-0ec3-4106-8eaf-c73fcdd29165"
      },
      "outputs": [],
      "source": [
        "# текст запроса\n",
        "query_4_3 = f'''SELECT\n",
        "                    ROUND(AVG(v.salary_from)) AS \"Среднее значение для нижней границы зп вилки\", /* Определяем среднее значение нижней границы зарплатной вилки и заносим в соотведствующий столбец*/\n",
        "                    ROUND(AVG(v.salary_to)) AS \"Среднее значение для верхней границы зп вилки\" /* Определяем среднее значение верхней границы зарплатной вилки и заносим в соотведствующий столбец*/\n",
        "                FROM public.vacancies v''' # Из схеме public таблицы \"vacancies\", задаём таблице алиас v*\n",
        "# Используем f-строки для удобства передачи параметров"
      ]
    },
    {
      "cell_type": "code",
      "execution_count": 21,
      "id": "pswpAb66ovZZ",
      "metadata": {
        "id": "pswpAb66ovZZ"
      },
      "outputs": [
        {
          "name": "stderr",
          "output_type": "stream",
          "text": [
            "C:\\Users\\Professional\\AppData\\Local\\Temp\\ipykernel_9196\\572238135.py:3: UserWarning: pandas only supports SQLAlchemy connectable (engine/connection) or database string URI or sqlite3 DBAPI2 connection. Other DBAPI2 objects are not tested. Please consider using SQLAlchemy.\n",
            "  df_avg = pd.read_sql_query(query_4_3, connection)\n"
          ]
        },
        {
          "data": {
            "text/html": [
              "<div>\n",
              "<style scoped>\n",
              "    .dataframe tbody tr th:only-of-type {\n",
              "        vertical-align: middle;\n",
              "    }\n",
              "\n",
              "    .dataframe tbody tr th {\n",
              "        vertical-align: top;\n",
              "    }\n",
              "\n",
              "    .dataframe thead th {\n",
              "        text-align: right;\n",
              "    }\n",
              "</style>\n",
              "<table border=\"1\" class=\"dataframe\">\n",
              "  <thead>\n",
              "    <tr style=\"text-align: right;\">\n",
              "      <th></th>\n",
              "      <th>Среднее значение для нижней грани</th>\n",
              "      <th>Среднее значение для верхней гран</th>\n",
              "    </tr>\n",
              "  </thead>\n",
              "  <tbody>\n",
              "    <tr>\n",
              "      <th>0</th>\n",
              "      <td>71065.0</td>\n",
              "      <td>110537.0</td>\n",
              "    </tr>\n",
              "  </tbody>\n",
              "</table>\n",
              "</div>"
            ],
            "text/plain": [
              "   Среднее значение для нижней грани  Среднее значение для верхней гран\n",
              "0                            71065.0                           110537.0"
            ]
          },
          "execution_count": 21,
          "metadata": {},
          "output_type": "execute_result"
        }
      ],
      "source": [
        "# результат запроса\n",
        "# Используем метод read_sql_query, чтобы получить результаты запроса сразу в виде датафрейма\n",
        "df_avg = pd.read_sql_query(query_4_3, connection)\n",
        "df_avg"
      ]
    },
    {
      "cell_type": "markdown",
      "id": "f3fdaec9-5fd3-4260-9cf5-1d7406b628a5",
      "metadata": {
        "id": "f3fdaec9-5fd3-4260-9cf5-1d7406b628a5"
      },
      "source": [
        "4. Напишите запрос, который выведет количество вакансий для каждого сочетания типа рабочего графика (schedule) и типа трудоустройства (employment), используемого в вакансиях. Результат отсортируйте по убыванию количества.\n"
      ]
    },
    {
      "cell_type": "code",
      "execution_count": 41,
      "id": "1ea710ec-871b-431e-9462-c7d0fd87011b",
      "metadata": {
        "id": "1ea710ec-871b-431e-9462-c7d0fd87011b"
      },
      "outputs": [],
      "source": [
        "# текст запроса\n",
        "query_4_4 = f'''SELECT \n",
        "                    COUNT(v.id) AS \"Кол-во вакансий\", /*Просчитываем общее кол.-во вакансий по столбецу \"id\" из таблици v,*/\n",
        "                                                         /*данные заносим в созданый столбец \"Кол-во вакансий\"*/\n",
        "                    v.schedule AS \"Тип рабочего графика\", /*Определяем рабочий график по столбецу \"schedule\" из таблици v,*/\n",
        "                                                         /*данные заносим в созданый столбец \"Тип рабочего графика\"*/\n",
        "                    v.employment AS \"Тип трудоустройства\" /*Определяем способ трудоустройства по столбецу \"employment\" из таблици v,*/\n",
        "                                                          /*данные заносим в созданый столбец \"Тип трудоустройства\"*/\n",
        "                 FROM public.vacancies v /*Из схеме public таблицы \"vacancies\", задаём таблице алиас v*/\n",
        "                 GROUP BY v.schedule, v.employment /*Группируем таблицу по второму и третему столбцу*/\n",
        "                 ORDER BY 1 DESC /*Сортируем по количеству вакансий в порядке убывания*/\n",
        "                 LIMIT 2''' # Выводим первые две пары График/трудоустройство с максимальным количеством вакансий\n",
        "# Используем f-строки для удобства передачи параметров"
      ]
    },
    {
      "cell_type": "code",
      "execution_count": 42,
      "id": "lGUVqavdo4JQ",
      "metadata": {
        "id": "lGUVqavdo4JQ"
      },
      "outputs": [
        {
          "name": "stderr",
          "output_type": "stream",
          "text": [
            "C:\\Users\\Professional\\AppData\\Local\\Temp\\ipykernel_9196\\2999877184.py:3: UserWarning: pandas only supports SQLAlchemy connectable (engine/connection) or database string URI or sqlite3 DBAPI2 connection. Other DBAPI2 objects are not tested. Please consider using SQLAlchemy.\n",
            "  df = pd.read_sql_query(query_4_4, connection)\n"
          ]
        },
        {
          "data": {
            "text/html": [
              "<div>\n",
              "<style scoped>\n",
              "    .dataframe tbody tr th:only-of-type {\n",
              "        vertical-align: middle;\n",
              "    }\n",
              "\n",
              "    .dataframe tbody tr th {\n",
              "        vertical-align: top;\n",
              "    }\n",
              "\n",
              "    .dataframe thead th {\n",
              "        text-align: right;\n",
              "    }\n",
              "</style>\n",
              "<table border=\"1\" class=\"dataframe\">\n",
              "  <thead>\n",
              "    <tr style=\"text-align: right;\">\n",
              "      <th></th>\n",
              "      <th>Кол-во вакансий</th>\n",
              "      <th>Тип рабочего графика</th>\n",
              "      <th>Тип трудоустройства</th>\n",
              "    </tr>\n",
              "  </thead>\n",
              "  <tbody>\n",
              "    <tr>\n",
              "      <th>0</th>\n",
              "      <td>35367</td>\n",
              "      <td>Полный день</td>\n",
              "      <td>Полная занятость</td>\n",
              "    </tr>\n",
              "    <tr>\n",
              "      <th>1</th>\n",
              "      <td>7802</td>\n",
              "      <td>Удаленная работа</td>\n",
              "      <td>Полная занятость</td>\n",
              "    </tr>\n",
              "  </tbody>\n",
              "</table>\n",
              "</div>"
            ],
            "text/plain": [
              "   Кол-во вакансий Тип рабочего графика Тип трудоустройства\n",
              "0            35367          Полный день    Полная занятость\n",
              "1             7802     Удаленная работа    Полная занятость"
            ]
          },
          "execution_count": 42,
          "metadata": {},
          "output_type": "execute_result"
        }
      ],
      "source": [
        "# результат запроса\n",
        "# Используем метод read_sql_query, чтобы получить результаты запроса сразу в виде датафрейма\n",
        "df = pd.read_sql_query(query_4_4, connection)\n",
        "df"
      ]
    },
    {
      "cell_type": "markdown",
      "id": "0136ffee-0ead-4a6b-b608-61d1c753a438",
      "metadata": {
        "id": "0136ffee-0ead-4a6b-b608-61d1c753a438"
      },
      "source": [
        "5. Напишите запрос, выводящий значения поля Требуемый опыт работы (experience) в порядке возрастания количества вакансий, в которых указан данный вариант опыта. "
      ]
    },
    {
      "cell_type": "code",
      "execution_count": 45,
      "id": "5b3a8e79-f7ab-4008-b767-12aea3a205ea",
      "metadata": {
        "id": "5b3a8e79-f7ab-4008-b767-12aea3a205ea"
      },
      "outputs": [],
      "source": [
        "# текст запроса\n",
        "query_4_5 = f'''SELECT \n",
        "                    COUNT(v.id) AS cnt, /*Просчитываем общее кол.-во вакансий по столбецу \"id\" из таблици v, данные заносим в созданый столбец \"cnt\"*/\n",
        "                    v.experience AS \"Требуемый опыт работы\" /*Определяем запрвшиваемый опыт работы по столбецу \"experience\" из таблици v,*/\n",
        "                                                            /*данные заносим в созданый столбец \"Требуемый опыт работы\"*/\n",
        "                 FROM public.vacancies v /*Из схеме public таблицы \"vacancies\", задаём таблице алиас v*/\n",
        "                 GROUP BY v.experience /*Группируем по опыту работы*/\n",
        "                 ORDER BY 1''' #Сортируем по количеству вакансий в порядке возростания\n",
        "# Используем f-строки для удобства передачи параметров"
      ]
    },
    {
      "cell_type": "code",
      "execution_count": 46,
      "id": "3Is64Y-hpDpq",
      "metadata": {
        "id": "3Is64Y-hpDpq"
      },
      "outputs": [
        {
          "name": "stderr",
          "output_type": "stream",
          "text": [
            "C:\\Users\\Professional\\AppData\\Local\\Temp\\ipykernel_9196\\2080874539.py:3: UserWarning: pandas only supports SQLAlchemy connectable (engine/connection) or database string URI or sqlite3 DBAPI2 connection. Other DBAPI2 objects are not tested. Please consider using SQLAlchemy.\n",
            "  df_cnt_exp = pd.read_sql_query(query_4_5, connection)\n"
          ]
        },
        {
          "data": {
            "text/html": [
              "<div>\n",
              "<style scoped>\n",
              "    .dataframe tbody tr th:only-of-type {\n",
              "        vertical-align: middle;\n",
              "    }\n",
              "\n",
              "    .dataframe tbody tr th {\n",
              "        vertical-align: top;\n",
              "    }\n",
              "\n",
              "    .dataframe thead th {\n",
              "        text-align: right;\n",
              "    }\n",
              "</style>\n",
              "<table border=\"1\" class=\"dataframe\">\n",
              "  <thead>\n",
              "    <tr style=\"text-align: right;\">\n",
              "      <th></th>\n",
              "      <th>cnt</th>\n",
              "      <th>Требуемый опыт работы</th>\n",
              "    </tr>\n",
              "  </thead>\n",
              "  <tbody>\n",
              "    <tr>\n",
              "      <th>0</th>\n",
              "      <td>1337</td>\n",
              "      <td>Более 6 лет</td>\n",
              "    </tr>\n",
              "    <tr>\n",
              "      <th>1</th>\n",
              "      <td>7197</td>\n",
              "      <td>Нет опыта</td>\n",
              "    </tr>\n",
              "    <tr>\n",
              "      <th>2</th>\n",
              "      <td>14511</td>\n",
              "      <td>От 3 до 6 лет</td>\n",
              "    </tr>\n",
              "    <tr>\n",
              "      <th>3</th>\n",
              "      <td>26152</td>\n",
              "      <td>От 1 года до 3 лет</td>\n",
              "    </tr>\n",
              "  </tbody>\n",
              "</table>\n",
              "</div>"
            ],
            "text/plain": [
              "     cnt Требуемый опыт работы\n",
              "0   1337           Более 6 лет\n",
              "1   7197             Нет опыта\n",
              "2  14511         От 3 до 6 лет\n",
              "3  26152    От 1 года до 3 лет"
            ]
          },
          "execution_count": 46,
          "metadata": {},
          "output_type": "execute_result"
        }
      ],
      "source": [
        "# результат запроса\n",
        "# Используем метод read_sql_query, чтобы получить результаты запроса сразу в виде датафрейма\n",
        "df_cnt_exp = pd.read_sql_query(query_4_5, connection)\n",
        "df_cnt_exp"
      ]
    },
    {
      "cell_type": "markdown",
      "id": "192e0279",
      "metadata": {},
      "source": [
        "# выводы по детальному анализу вакансий\n",
        "После боллее подробного анализа предоставленных даных можно сказать следующее\n",
        " - Пятёркой лидеров по поиску сотрудников являються Москва, Санкт-Петербург, Минск, Новосибирск и Алматы. Эти города, в которых предложение вакансий наиболее высоко, что может указывать на их значимость и развитость как центров бизнеса и экономики.\n",
        " - Информация о зарплате указана для 24073 вакансий. Это позволяет провести анализ зарплатного уровня и оценить рыночную стоимость работы.\n",
        " - Среднее значение для нижней зарплатной вилки составляет 71065, а для верхней зарплатной вилки - 110537. Это диапазон зарплат может служить ориентиром для соискателей в планировании своей заработной платы.\n",
        " - Опыт работы от 1 года до 3 лет является наиболее востребованным. Это может указывать на то, что многие работодатели ищут кандидатов с определенным уровнем опыта, который считается оптимальным для выполнения задач в соответствующей области.\n",
        " - Полная занятость, как наиболее популярный тип занятости, указывает на то что большинство работодателей ищут сотрудников, готовых работать полный рабочий день."
      ]
    },
    {
      "cell_type": "markdown",
      "id": "oq2b7n1QpIka",
      "metadata": {
        "id": "oq2b7n1QpIka"
      },
      "source": [
        "***"
      ]
    },
    {
      "cell_type": "markdown",
      "id": "7ea20ab6-04a7-40a0-adec-443a0e5a42c3",
      "metadata": {
        "id": "7ea20ab6-04a7-40a0-adec-443a0e5a42c3"
      },
      "source": [
        "# Юнит 5. Анализ работодателей"
      ]
    },
    {
      "cell_type": "markdown",
      "id": "968aed80-74ef-4ffb-b5bf-c65b84e9caea",
      "metadata": {
        "id": "968aed80-74ef-4ffb-b5bf-c65b84e9caea"
      },
      "source": [
        "1. Напишите запрос, который позволит узнать, какие работодатели находятся на первом и пятом месте по количеству вакансий."
      ]
    },
    {
      "cell_type": "code",
      "execution_count": 62,
      "id": "f2d62796-d400-4ec1-a675-88112739a50e",
      "metadata": {
        "id": "f2d62796-d400-4ec1-a675-88112739a50e"
      },
      "outputs": [],
      "source": [
        "# текст запроса\n",
        "query_5_1 = f'''(SELECT \n",
        "                     e.name AS \"Работодатель\", /*Выбираем работодателя по столбцу \"name\" из таблици e, данные заносим в созданый столбец \"Работодатель\"*/\n",
        "                     COUNT(v.id) AS \"Кол-во вакансий\" /*Просчитываем общее кол.-во вакансий по столбецу \"id\" из таблици v, данные заносим в созданый столбец \"Кол-во вакансий\"*/\n",
        "                 FROM public.employers e /*Из схеме public таблицы \"employers\", задаём таблице алиас e*/\n",
        "                 JOIN public.vacancies v ON v.employer_id = e.id /*Внутреннее присоединение из схемы public таблицы vacancies, задав ей алиас v, по ключам id и employer_id*/\n",
        "                 GROUP BY e.name /*Группируем по столбцу \"Работодатель\"*/\n",
        "                 ORDER BY 2 DESC /*Сортируем по количеству вакансий в порядке убывания*/\n",
        "                 LIMIT 1)  /*Выводим первую строку данной выборки*/\n",
        "                 UNION ALL /*Оператор присоединения*/\n",
        "                 (SELECT \n",
        "                     e.name AS \"Работодатель\", /*Выбираем работодателя по столбцу \"name\" из таблици e, данные заносим в созданый столбец \"Работодатель\"*/\n",
        "                     COUNT(v.id) AS \"Кол-во вакансий\" /*Просчитываем общее кол.-во вакансий по столбецу \"id\" из таблици v, данные заносим в созданый столбец \"Кол-во вакансий\"*/\n",
        "                 FROM public.employers e /*Из схеме public таблицы \"employers\", задаём таблице алиас e*/\n",
        "                 JOIN public.vacancies v ON v.employer_id = e.id /*Внутреннее присоединение из схемы public таблицы vacancies, задав ей алиас v, по ключам id и employer_id*/\n",
        "                 GROUP BY e.name /*Группируем по столбцу \"Работодатель\"*/\n",
        "                 ORDER BY 2 DESC /*Сортируем по количеству вакансий в порядке убывания*/\n",
        "                 LIMIT 1 /*Выводим первую строку данной выборки*/\n",
        "                 OFFSET 4) /*Указываем отчет с пятой строки*/'''\n",
        "# Используем f-строки для удобства передачи параметров"
      ]
    },
    {
      "cell_type": "code",
      "execution_count": 63,
      "id": "64tOMkAxqkQk",
      "metadata": {
        "id": "64tOMkAxqkQk"
      },
      "outputs": [
        {
          "name": "stderr",
          "output_type": "stream",
          "text": [
            "C:\\Users\\Professional\\AppData\\Local\\Temp\\ipykernel_9196\\29496228.py:3: UserWarning: pandas only supports SQLAlchemy connectable (engine/connection) or database string URI or sqlite3 DBAPI2 connection. Other DBAPI2 objects are not tested. Please consider using SQLAlchemy.\n",
            "  df_emp = pd.read_sql_query(query_5_1, connection)\n"
          ]
        },
        {
          "data": {
            "text/html": [
              "<div>\n",
              "<style scoped>\n",
              "    .dataframe tbody tr th:only-of-type {\n",
              "        vertical-align: middle;\n",
              "    }\n",
              "\n",
              "    .dataframe tbody tr th {\n",
              "        vertical-align: top;\n",
              "    }\n",
              "\n",
              "    .dataframe thead th {\n",
              "        text-align: right;\n",
              "    }\n",
              "</style>\n",
              "<table border=\"1\" class=\"dataframe\">\n",
              "  <thead>\n",
              "    <tr style=\"text-align: right;\">\n",
              "      <th></th>\n",
              "      <th>Работодатель</th>\n",
              "      <th>Кол-во вакансий</th>\n",
              "    </tr>\n",
              "  </thead>\n",
              "  <tbody>\n",
              "    <tr>\n",
              "      <th>0</th>\n",
              "      <td>Яндекс</td>\n",
              "      <td>1933</td>\n",
              "    </tr>\n",
              "    <tr>\n",
              "      <th>1</th>\n",
              "      <td>Газпром нефть</td>\n",
              "      <td>331</td>\n",
              "    </tr>\n",
              "  </tbody>\n",
              "</table>\n",
              "</div>"
            ],
            "text/plain": [
              "    Работодатель  Кол-во вакансий\n",
              "0         Яндекс             1933\n",
              "1  Газпром нефть              331"
            ]
          },
          "execution_count": 63,
          "metadata": {},
          "output_type": "execute_result"
        }
      ],
      "source": [
        "# результат запроса\n",
        "# Используем метод read_sql_query, чтобы получить результаты запроса сразу в виде датафрейма\n",
        "df_emp = pd.read_sql_query(query_5_1, connection)\n",
        "df_emp"
      ]
    },
    {
      "cell_type": "markdown",
      "id": "68377cfc-b378-43dc-ab7d-1195abf2c515",
      "metadata": {
        "id": "68377cfc-b378-43dc-ab7d-1195abf2c515"
      },
      "source": [
        "2. Напишите запрос, который для каждого региона выведет количество работодателей и вакансий в нём.\n",
        "Среди регионов, в которых нет вакансий, найдите тот, в котором наибольшее количество работодателей.\n"
      ]
    },
    {
      "cell_type": "code",
      "execution_count": 69,
      "id": "dd7df27a-e3e8-412e-a21a-5d389b71e891",
      "metadata": {
        "id": "dd7df27a-e3e8-412e-a21a-5d389b71e891"
      },
      "outputs": [],
      "source": [
        "# текст запроса\n",
        "query_5_2 = f'''SELECT \n",
        "                     a.name AS \"Регион\", /*Выбираем регион по столбцу \"name\" из таблици a, данные заносим в созданый столбец \"Регион\"*/\n",
        "                     COUNT(e.name) AS \"Кол-во работодателей\", /*Просчитываем кол.-во работодателей по столбецу \"name\" из таблици e,*/\n",
        "                                                              /*данные заносим в созданый столбец \"Кол-во работодателей\"*/\n",
        "                     COUNT(v.name) AS \"Кол-во вакансий\" /*Просчитываем кол.-во вакансий по столбецу \"name\" из таблици v,*/\n",
        "                                                        /*данные заносим в созданый столбец \"Кол-во вакансий\"*/\n",
        "                 FROM public.areas a /*Из схеме public таблицы \"areas\", задаём таблице алиас a*/\n",
        "                 JOIN public.employers e ON a.id = e.area /*Внутреннее присоединение из схемы public таблицы employers,*/\n",
        "                                                          /*задав ей алиас e, по ключам id и area*/\n",
        "                 LEFT JOIN public.vacancies v ON v.area_id = a.id /*Внутреннее присоединение из схемы public таблицы vacancies,*/\n",
        "                                                                 /*задав ей алиас v, по ключам id и area_id*/\n",
        "                 WHERE v.area_id IS NULL /*Указываем услови при котором вакансии в регионе нет*/\n",
        "                 GROUP BY 1 /*Группируем по столбецу \"Регион\"*/\n",
        "                 ORDER BY 2 DESC /*Сотрируем по столбецу \"Кол-во работодателей\" в порядке убывания*/\n",
        "                 LIMIT 3 /*Выводим первые три строки запроса*/''' \n",
        "# Используем f-строки для удобства передачи параметров"
      ]
    },
    {
      "cell_type": "code",
      "execution_count": 70,
      "id": "x1ikWbydrbf6",
      "metadata": {
        "id": "x1ikWbydrbf6"
      },
      "outputs": [
        {
          "name": "stderr",
          "output_type": "stream",
          "text": [
            "C:\\Users\\Professional\\AppData\\Local\\Temp\\ipykernel_9196\\1210127603.py:3: UserWarning: pandas only supports SQLAlchemy connectable (engine/connection) or database string URI or sqlite3 DBAPI2 connection. Other DBAPI2 objects are not tested. Please consider using SQLAlchemy.\n",
            "  df_регион= pd.read_sql_query(query_5_2, connection)\n"
          ]
        },
        {
          "data": {
            "text/html": [
              "<div>\n",
              "<style scoped>\n",
              "    .dataframe tbody tr th:only-of-type {\n",
              "        vertical-align: middle;\n",
              "    }\n",
              "\n",
              "    .dataframe tbody tr th {\n",
              "        vertical-align: top;\n",
              "    }\n",
              "\n",
              "    .dataframe thead th {\n",
              "        text-align: right;\n",
              "    }\n",
              "</style>\n",
              "<table border=\"1\" class=\"dataframe\">\n",
              "  <thead>\n",
              "    <tr style=\"text-align: right;\">\n",
              "      <th></th>\n",
              "      <th>Регион</th>\n",
              "      <th>Кол-во работодателей</th>\n",
              "      <th>Кол-во вакансий</th>\n",
              "    </tr>\n",
              "  </thead>\n",
              "  <tbody>\n",
              "    <tr>\n",
              "      <th>0</th>\n",
              "      <td>Россия</td>\n",
              "      <td>410</td>\n",
              "      <td>0</td>\n",
              "    </tr>\n",
              "    <tr>\n",
              "      <th>1</th>\n",
              "      <td>Казахстан</td>\n",
              "      <td>207</td>\n",
              "      <td>0</td>\n",
              "    </tr>\n",
              "    <tr>\n",
              "      <th>2</th>\n",
              "      <td>Московская область</td>\n",
              "      <td>75</td>\n",
              "      <td>0</td>\n",
              "    </tr>\n",
              "  </tbody>\n",
              "</table>\n",
              "</div>"
            ],
            "text/plain": [
              "               Регион  Кол-во работодателей  Кол-во вакансий\n",
              "0              Россия                   410                0\n",
              "1           Казахстан                   207                0\n",
              "2  Московская область                    75                0"
            ]
          },
          "execution_count": 70,
          "metadata": {},
          "output_type": "execute_result"
        }
      ],
      "source": [
        "# результат запроса\n",
        "# Используем метод read_sql_query, чтобы получить результаты запроса сразу в виде датафрейма\n",
        "df_регион= pd.read_sql_query(query_5_2, connection)\n",
        "df_регион"
      ]
    },
    {
      "cell_type": "markdown",
      "id": "f2fe0acb-ab1a-4e15-9326-2560e22d73c1",
      "metadata": {
        "id": "f2fe0acb-ab1a-4e15-9326-2560e22d73c1"
      },
      "source": [
        "3. Для каждого работодателя посчитайте количество регионов, в которых он публикует свои вакансии. Отсортируйте результат по убыванию количества.\n"
      ]
    },
    {
      "cell_type": "code",
      "execution_count": 71,
      "id": "6271f8ad-bd2e-4196-ae4a-5b39c4c1010e",
      "metadata": {
        "id": "6271f8ad-bd2e-4196-ae4a-5b39c4c1010e"
      },
      "outputs": [],
      "source": [
        "# текст запроса\n",
        "query_5_3 = f'''SELECT       \n",
        "                     e.name AS \"Работодатель\", /*Выбираем работодателей по столбецу \"name\" из таблици e,*/\n",
        "                                               /*данные заносим в созданый столбец \"Работодатель\"*/      \n",
        "                     COUNT(DISTINCT v.area_id) AS \"Кол-во регионов\" /*Подсчитываем кол.-во регионов в котором работодатель опубликовал вакансии,*/\n",
        "                                              /*данные заносим в созданый столбец \"Кол-во регионов\"*/ \n",
        "                FROM public.vacancies v /*Из схеме public таблицы \"vacancies\", задаём таблице алиас v*/\n",
        "                FULL JOIN public.employers e ON v.employer_id = e.id /*Внутреннее присоединение из схемы public таблицы employers,*/\n",
        "                                                          /*задав ей алиас e, по ключам id и employer_id*/\n",
        "                GROUP BY 1 /*Группирум по столбецу \"Работодатель\"*/\n",
        "                ORDER BY 2 DESC /*Сортируем по столбцу \"Кол-во регионов\" в порядке убывания*/ ''' \n",
        "# Используем f-строки для удобства передачи параметров"
      ]
    },
    {
      "cell_type": "code",
      "execution_count": 72,
      "id": "1EIvX3HasH4F",
      "metadata": {
        "id": "1EIvX3HasH4F"
      },
      "outputs": [
        {
          "name": "stderr",
          "output_type": "stream",
          "text": [
            "C:\\Users\\Professional\\AppData\\Local\\Temp\\ipykernel_9196\\2173856228.py:3: UserWarning: pandas only supports SQLAlchemy connectable (engine/connection) or database string URI or sqlite3 DBAPI2 connection. Other DBAPI2 objects are not tested. Please consider using SQLAlchemy.\n",
            "  df_5_3 = pd.read_sql_query(query_5_3, connection)\n"
          ]
        },
        {
          "data": {
            "text/html": [
              "<div>\n",
              "<style scoped>\n",
              "    .dataframe tbody tr th:only-of-type {\n",
              "        vertical-align: middle;\n",
              "    }\n",
              "\n",
              "    .dataframe tbody tr th {\n",
              "        vertical-align: top;\n",
              "    }\n",
              "\n",
              "    .dataframe thead th {\n",
              "        text-align: right;\n",
              "    }\n",
              "</style>\n",
              "<table border=\"1\" class=\"dataframe\">\n",
              "  <thead>\n",
              "    <tr style=\"text-align: right;\">\n",
              "      <th></th>\n",
              "      <th>Работодатель</th>\n",
              "      <th>Кол-во регионов</th>\n",
              "    </tr>\n",
              "  </thead>\n",
              "  <tbody>\n",
              "    <tr>\n",
              "      <th>0</th>\n",
              "      <td>Яндекс</td>\n",
              "      <td>181</td>\n",
              "    </tr>\n",
              "    <tr>\n",
              "      <th>1</th>\n",
              "      <td>Ростелеком</td>\n",
              "      <td>152</td>\n",
              "    </tr>\n",
              "    <tr>\n",
              "      <th>2</th>\n",
              "      <td>Спецремонт</td>\n",
              "      <td>116</td>\n",
              "    </tr>\n",
              "    <tr>\n",
              "      <th>3</th>\n",
              "      <td>Поляков Денис Иванович</td>\n",
              "      <td>88</td>\n",
              "    </tr>\n",
              "    <tr>\n",
              "      <th>4</th>\n",
              "      <td>ООО ЕФИН</td>\n",
              "      <td>71</td>\n",
              "    </tr>\n",
              "    <tr>\n",
              "      <th>...</th>\n",
              "      <td>...</td>\n",
              "      <td>...</td>\n",
              "    </tr>\n",
              "    <tr>\n",
              "      <th>23170</th>\n",
              "      <td>СДЕЛКА</td>\n",
              "      <td>0</td>\n",
              "    </tr>\n",
              "    <tr>\n",
              "      <th>23171</th>\n",
              "      <td>Alandr Group</td>\n",
              "      <td>0</td>\n",
              "    </tr>\n",
              "    <tr>\n",
              "      <th>23172</th>\n",
              "      <td>СДК</td>\n",
              "      <td>0</td>\n",
              "    </tr>\n",
              "    <tr>\n",
              "      <th>23173</th>\n",
              "      <td>Lemon Land Lombard</td>\n",
              "      <td>0</td>\n",
              "    </tr>\n",
              "    <tr>\n",
              "      <th>23174</th>\n",
              "      <td>Махина</td>\n",
              "      <td>0</td>\n",
              "    </tr>\n",
              "  </tbody>\n",
              "</table>\n",
              "<p>23175 rows × 2 columns</p>\n",
              "</div>"
            ],
            "text/plain": [
              "                 Работодатель  Кол-во регионов\n",
              "0                      Яндекс              181\n",
              "1                  Ростелеком              152\n",
              "2                  Спецремонт              116\n",
              "3      Поляков Денис Иванович               88\n",
              "4                   ООО ЕФИН                71\n",
              "...                       ...              ...\n",
              "23170                  СДЕЛКА                0\n",
              "23171            Alandr Group                0\n",
              "23172                     СДК                0\n",
              "23173      Lemon Land Lombard                0\n",
              "23174                  Махина                0\n",
              "\n",
              "[23175 rows x 2 columns]"
            ]
          },
          "execution_count": 72,
          "metadata": {},
          "output_type": "execute_result"
        }
      ],
      "source": [
        "# результат запроса\n",
        "# Используем метод read_sql_query, чтобы получить результаты запроса сразу в виде датафрейма\n",
        "df_5_3 = pd.read_sql_query(query_5_3, connection)\n",
        "df_5_3"
      ]
    },
    {
      "cell_type": "markdown",
      "id": "eab2206d-d95b-468b-8e5f-34381abf0ce7",
      "metadata": {
        "id": "eab2206d-d95b-468b-8e5f-34381abf0ce7"
      },
      "source": [
        "4. Напишите запрос для подсчёта количества работодателей, у которых не указана сфера деятельности. "
      ]
    },
    {
      "cell_type": "code",
      "execution_count": 73,
      "id": "80defb23-bfb1-4a18-8be6-bf36aa7165d5",
      "metadata": {
        "id": "80defb23-bfb1-4a18-8be6-bf36aa7165d5"
      },
      "outputs": [],
      "source": [
        "# текст запроса\n",
        "query_5_4 = f'''SELECT       \n",
        "                     COUNT(*) AS \"Кол-во работодателей\" /*Подсчитываем кол.-во работодателей, данные вносим в созданый столбец \"Кол-во работодателей\"*/ \n",
        "                 FROM public.employers e /*Из схеме public таблицы \"employers\", задаём таблице алиас e*/\n",
        "                 LEFT JOIN public.employers_industries ei ON ei.employer_id = e.id /*Внутреннее присоединение из схемы public таблицы employers_industries,*/\n",
        "                                                                                  /*задав ей алиас ei, по ключам id и employer_id*/ \n",
        "                 WHERE ei.industry_id IS NULL /*Указываем услови при котором работодатель не указал сферу деятельности*/''' \n",
        "# Используем f-строки для удобства передачи параметров"
      ]
    },
    {
      "cell_type": "code",
      "execution_count": 74,
      "id": "Dp_yCx6ysQSu",
      "metadata": {
        "id": "Dp_yCx6ysQSu"
      },
      "outputs": [
        {
          "name": "stderr",
          "output_type": "stream",
          "text": [
            "C:\\Users\\Professional\\AppData\\Local\\Temp\\ipykernel_9196\\849233504.py:3: UserWarning: pandas only supports SQLAlchemy connectable (engine/connection) or database string URI or sqlite3 DBAPI2 connection. Other DBAPI2 objects are not tested. Please consider using SQLAlchemy.\n",
            "  df_5_4 = pd.read_sql_query(query_5_4, connection)\n"
          ]
        },
        {
          "data": {
            "text/html": [
              "<div>\n",
              "<style scoped>\n",
              "    .dataframe tbody tr th:only-of-type {\n",
              "        vertical-align: middle;\n",
              "    }\n",
              "\n",
              "    .dataframe tbody tr th {\n",
              "        vertical-align: top;\n",
              "    }\n",
              "\n",
              "    .dataframe thead th {\n",
              "        text-align: right;\n",
              "    }\n",
              "</style>\n",
              "<table border=\"1\" class=\"dataframe\">\n",
              "  <thead>\n",
              "    <tr style=\"text-align: right;\">\n",
              "      <th></th>\n",
              "      <th>Кол-во работодателей</th>\n",
              "    </tr>\n",
              "  </thead>\n",
              "  <tbody>\n",
              "    <tr>\n",
              "      <th>0</th>\n",
              "      <td>8419</td>\n",
              "    </tr>\n",
              "  </tbody>\n",
              "</table>\n",
              "</div>"
            ],
            "text/plain": [
              "   Кол-во работодателей\n",
              "0                  8419"
            ]
          },
          "execution_count": 74,
          "metadata": {},
          "output_type": "execute_result"
        }
      ],
      "source": [
        "# результат запроса\n",
        "# Используем метод read_sql_query, чтобы получить результаты запроса сразу в виде датафрейма\n",
        "df_5_4 = pd.read_sql_query(query_5_4, connection)\n",
        "df_5_4"
      ]
    },
    {
      "cell_type": "markdown",
      "id": "0112af31-f6b0-4e3b-82ab-71296e752e5e",
      "metadata": {
        "id": "0112af31-f6b0-4e3b-82ab-71296e752e5e"
      },
      "source": [
        "5. Напишите запрос, чтобы узнать название компании, находящейся на третьем месте в алфавитном списке (по названию) компаний, у которых указано четыре сферы деятельности. "
      ]
    },
    {
      "cell_type": "code",
      "execution_count": 75,
      "id": "973b0cfc-a972-470a-8b4a-68744ef220c4",
      "metadata": {
        "id": "973b0cfc-a972-470a-8b4a-68744ef220c4"
      },
      "outputs": [],
      "source": [
        "# текст запроса\n",
        "query_5_5 = f'''SELECT\n",
        "                     e.name AS \"Названия компаний\", /*Выбираем работодателей по столбецу \"name\" из таблици e,*/\n",
        "                                                  /*данные заносим в созданый столбец \"Названия компаний\"*/      \n",
        "                     COUNT(ei.industry_id) AS \"Кол-во сфер деятельности\" /*Подсчитываем кол.-во сфер деятельности из столбцу \"industry_id\" из таблици ei,*/\n",
        "                                                  /*данные заносим в созданый столбец \"Кол-во сфер деятельности\"*/   \n",
        "                 FROM public.employers e /*Из схеме public таблицы \"employers\", задаём таблице алиас e*/\n",
        "                 FULL JOIN public.employers_industries ei ON ei.employer_id = e.id /*Внутреннее присоединение из схемы public таблицы employers_industries,*/\n",
        "                                                                                  /*задав ей алиас ei, по ключам id и employer_id*/ \n",
        "                 GROUP BY e.name /*Группируем по столбцу \"Названия компаний\"*/\n",
        "                 HAVING COUNT(ei.industry_id) = 4 /*Устанавливаем значение столбца \"Кол-во сфер деятельности\" равное 4*/ \n",
        "                 ORDER BY 1 /*Сортируем по столбцу Названия компаний\"*/\n",
        "                 OFFSET 2 /*Отсукаем первые две строки*/\n",
        "                 LIMIT 1 /*Указываем кол.-во выводимых строк*/'''\n",
        "# Используем f-строки для удобства передачи параметров"
      ]
    },
    {
      "cell_type": "code",
      "execution_count": 76,
      "id": "xsPtpp8EsaED",
      "metadata": {
        "id": "xsPtpp8EsaED"
      },
      "outputs": [
        {
          "name": "stderr",
          "output_type": "stream",
          "text": [
            "C:\\Users\\Professional\\AppData\\Local\\Temp\\ipykernel_9196\\253154687.py:3: UserWarning: pandas only supports SQLAlchemy connectable (engine/connection) or database string URI or sqlite3 DBAPI2 connection. Other DBAPI2 objects are not tested. Please consider using SQLAlchemy.\n",
            "  df_5_5 = pd.read_sql_query(query_5_5, connection)\n"
          ]
        },
        {
          "data": {
            "text/html": [
              "<div>\n",
              "<style scoped>\n",
              "    .dataframe tbody tr th:only-of-type {\n",
              "        vertical-align: middle;\n",
              "    }\n",
              "\n",
              "    .dataframe tbody tr th {\n",
              "        vertical-align: top;\n",
              "    }\n",
              "\n",
              "    .dataframe thead th {\n",
              "        text-align: right;\n",
              "    }\n",
              "</style>\n",
              "<table border=\"1\" class=\"dataframe\">\n",
              "  <thead>\n",
              "    <tr style=\"text-align: right;\">\n",
              "      <th></th>\n",
              "      <th>Названия компаний</th>\n",
              "      <th>Кол-во сфер деятельности</th>\n",
              "    </tr>\n",
              "  </thead>\n",
              "  <tbody>\n",
              "    <tr>\n",
              "      <th>0</th>\n",
              "      <td>2ГИС</td>\n",
              "      <td>4</td>\n",
              "    </tr>\n",
              "  </tbody>\n",
              "</table>\n",
              "</div>"
            ],
            "text/plain": [
              "  Названия компаний  Кол-во сфер деятельности\n",
              "0              2ГИС                         4"
            ]
          },
          "execution_count": 76,
          "metadata": {},
          "output_type": "execute_result"
        }
      ],
      "source": [
        "# результат запроса\n",
        "# Используем метод read_sql_query, чтобы получить результаты запроса сразу в виде датафрейма\n",
        "df_5_5 = pd.read_sql_query(query_5_5, connection)\n",
        "df_5_5"
      ]
    },
    {
      "cell_type": "markdown",
      "id": "3bfcfdaf-755d-4d2b-8ed8-326201dc07ab",
      "metadata": {
        "id": "3bfcfdaf-755d-4d2b-8ed8-326201dc07ab"
      },
      "source": [
        "6. С помощью запроса выясните, у какого количества работодателей в качестве сферы деятельности указана Разработка программного обеспечения.\n"
      ]
    },
    {
      "cell_type": "code",
      "execution_count": 78,
      "id": "ad3f270f-2991-47eb-929b-e8f88a55b0d1",
      "metadata": {
        "id": "ad3f270f-2991-47eb-929b-e8f88a55b0d1"
      },
      "outputs": [],
      "source": [
        "# текст запроса\n",
        "query_5_6 = f'''SELECT\n",
        "                     COUNT(ei.employer_id) AS \"Кол-во работодателей\" /*Подсчитываем кол.-во работодателей из столбцу \"employer_id\" из таблици ei,*/\n",
        "                                                                     /*данные заносим в созданый столбец \"Кол-во работодателей\"*/   \n",
        "                 FROM public.employers_industries ei /*Из схеме public таблицы \"employers_industries\", задаём таблице алиас ei*/\n",
        "                 LEFT JOIN public.industries i ON ei.industry_id = i.id /*Внутреннее присоединение из схемы public таблицы industries,*/\n",
        "                                                                        /*задав ей алиас i, по ключам id и industry_id*/ \n",
        "                 WHERE i.name = 'Разработка программного обеспечения' /*Указываем услови при котором сферой деятельности указано 'Разработка программного обеспечения'*/'''\n",
        "# Используем f-строки для удобства передачи параметров"
      ]
    },
    {
      "cell_type": "code",
      "execution_count": 79,
      "id": "H72qxWM0shPR",
      "metadata": {
        "id": "H72qxWM0shPR"
      },
      "outputs": [
        {
          "name": "stderr",
          "output_type": "stream",
          "text": [
            "C:\\Users\\Professional\\AppData\\Local\\Temp\\ipykernel_9196\\1807149835.py:3: UserWarning: pandas only supports SQLAlchemy connectable (engine/connection) or database string URI or sqlite3 DBAPI2 connection. Other DBAPI2 objects are not tested. Please consider using SQLAlchemy.\n",
            "  df_5_6 = pd.read_sql_query(query_5_6, connection)\n"
          ]
        },
        {
          "data": {
            "text/html": [
              "<div>\n",
              "<style scoped>\n",
              "    .dataframe tbody tr th:only-of-type {\n",
              "        vertical-align: middle;\n",
              "    }\n",
              "\n",
              "    .dataframe tbody tr th {\n",
              "        vertical-align: top;\n",
              "    }\n",
              "\n",
              "    .dataframe thead th {\n",
              "        text-align: right;\n",
              "    }\n",
              "</style>\n",
              "<table border=\"1\" class=\"dataframe\">\n",
              "  <thead>\n",
              "    <tr style=\"text-align: right;\">\n",
              "      <th></th>\n",
              "      <th>Кол-во работодателей</th>\n",
              "    </tr>\n",
              "  </thead>\n",
              "  <tbody>\n",
              "    <tr>\n",
              "      <th>0</th>\n",
              "      <td>3553</td>\n",
              "    </tr>\n",
              "  </tbody>\n",
              "</table>\n",
              "</div>"
            ],
            "text/plain": [
              "   Кол-во работодателей\n",
              "0                  3553"
            ]
          },
          "execution_count": 79,
          "metadata": {},
          "output_type": "execute_result"
        }
      ],
      "source": [
        "# результат запроса\n",
        "# Используем метод read_sql_query, чтобы получить результаты запроса сразу в виде датафрейма\n",
        "df_5_6 = pd.read_sql_query(query_5_6, connection)\n",
        "df_5_6"
      ]
    },
    {
      "cell_type": "markdown",
      "id": "7b02bb86-0546-40fb-94a4-242f050a5c57",
      "metadata": {
        "id": "7b02bb86-0546-40fb-94a4-242f050a5c57"
      },
      "source": [
        "7. Для компании «Яндекс» выведите список регионов-миллионников, в которых представлены вакансии компании, вместе с количеством вакансий в этих регионах. Также добавьте строку Total с общим количеством вакансий компании. Результат отсортируйте по возрастанию количества.\n",
        "\n",
        "Список городов-милионников надо взять [отсюда](https://ru.wikipedia.org/wiki/%D0%93%D0%BE%D1%80%D0%BE%D0%B4%D0%B0-%D0%BC%D0%B8%D0%BB%D0%BB%D0%B8%D0%BE%D0%BD%D0%B5%D1%80%D1%8B_%D0%A0%D0%BE%D1%81%D1%81%D0%B8%D0%B8). \n",
        "\n",
        "Если возникнут трудности с этим задание посмотрите материалы модуля  PYTHON-17. Как получать данные из веб-источников и API. "
      ]
    },
    {
      "cell_type": "code",
      "execution_count": 80,
      "id": "40957a58",
      "metadata": {},
      "outputs": [
        {
          "data": {
            "text/plain": [
              "('Москва',\n",
              " 'Санкт-Петербург',\n",
              " 'Новосибирск',\n",
              " 'Екатеринбург',\n",
              " 'Казань',\n",
              " 'Нижний Новгород',\n",
              " 'Красноярск',\n",
              " 'Челябинск',\n",
              " 'Самара',\n",
              " 'Уфа',\n",
              " 'Ростов-на-Дону',\n",
              " 'Краснодар',\n",
              " 'Омск',\n",
              " 'Воронеж',\n",
              " 'Пермь',\n",
              " 'Волгоград')"
            ]
          },
          "execution_count": 80,
          "metadata": {},
          "output_type": "execute_result"
        }
      ],
      "source": [
        "# код для получения списка городов-милионников\n",
        "import urllib.parse as req #Для получения списка городов милиоников с сайта добовляем еще одну бублиотеку \"urllib.parse\"\n",
        "\n",
        "path_common = req.urlparse('https://ru.wikipedia.org/wiki/Города-миллионеры_России#Список_городов-миллионеров') # Выполняем запрос по адрессу страници\n",
        "# Преоброзование полученой информации и создание списка городов\n",
        "url = path_common.scheme + '://' + req.quote(path_common.netloc) +  req.quote(path_common.path) + '#'+ req.quote(path_common.fragment)\n",
        "cities = tuple(pd.read_html(url)[1]['Город'])\n",
        "cities # Вывод списка городов милиоников"
      ]
    },
    {
      "cell_type": "code",
      "execution_count": 86,
      "id": "5a0e32a4-e68a-4365-8a39-2fe24c542c36",
      "metadata": {
        "id": "5a0e32a4-e68a-4365-8a39-2fe24c542c36"
      },
      "outputs": [],
      "source": [
        "# текст запроса\n",
        "query_5_7 = f'''SELECT\n",
        "                     a.name AS \"Регионы-миллионники\",/*Выбираем регионы-милионики по столбецу \"name\" из таблици a,*/\n",
        "                                                    /*данные заносим в созданый столбец \"Регионы-миллионники\"*/      \n",
        "                     COUNT(v.id) \"Кол-во вакансий\" /*Просчитываем кол.-во вакансий по столбецу \"id\" из таблици v,*/\n",
        "                                                  /*данные заносим в созданый столбец \"Кол-во вакансий\"*/\n",
        "                 FROM public.vacancies v /*Из схеме public таблицы \"vacancies\", задаём таблице алиас v*/\n",
        "                 LEFT JOIN public.employers e on v.employer_id = e.id /*Внутреннее присоединение из схемы public таблицы employers,*/\n",
        "                                                                        /*задав ей алиас e, по ключам id и employer_id*/\n",
        "                 LEFT JOIN public.areas a on v.area_id = a.id /*Внутреннее присоединение из схемы public таблицы areas,*/\n",
        "                                                            /*задав ей алиас a, по ключам id и area_id*/\n",
        "                 WHERE e.name = 'Яндекс' and a.name in ('Москва', 'Санкт-Петербург', 'Новосибирск', 'Екатеринбург', 'Казань',\n",
        "                 'Нижний Новгород', 'Красноярск', 'Челябинск', 'Самара', 'Уфа', 'Ростов-на-Дону', 'Краснодар', 'Омск',\n",
        "                 'Воронеж', 'Пермь', 'Волгоград') /*Указываем услови при котором имя компании указано \"Яндекс\" а регионы выбираются из полученого списка городов милиоников*/\n",
        "                 GROUP BY a.name /*Группируем по столбцу \"Регионы-миллионники\"*/\n",
        "                 UNION ALL /*Оператор присоединения*/\n",
        "                 SELECT \n",
        "                     'Total', count(*) /*Долбовляем строку \"Total\" хранящую общее количество вакансий*/\n",
        "                 FROM public.vacancies v /*Из схеме public таблицы \"vacancies\", задаём таблице алиас v*/\n",
        "                 LEFT JOIN public.employers e on v.employer_id = e.id /*Внутреннее присоединение из схемы public таблицы employers,*/\n",
        "                                                                    /*задав ей алиас e, по ключам id и employer_id*/\n",
        "                 LEFT JOIN public.areas a on v.area_id = a.id /*Внутреннее присоединение из схемы public таблицы areas,*/\n",
        "                                                            /*задав ей алиас a, по ключам id и area_id*/\n",
        "                  WHERE e.name = 'Яндекс' and a.name in ('Москва', 'Санкт-Петербург', 'Новосибирск', 'Екатеринбург', 'Казань',\n",
        "                 'Нижний Новгород', 'Красноярск', 'Челябинск', 'Самара', 'Уфа', 'Ростов-на-Дону', 'Краснодар', 'Омск',\n",
        "                 'Воронеж', 'Пермь', 'Волгоград') /*Указываем услови при котором имя компании указано \"Яндекс\" а регионы выбираются из полученого списка городов милиоников*/\n",
        "                  ORDER BY 2 /*Сортируем по кол.-ву вакаесий в порядке возростания*/'''\n",
        "# Используем f-строки для удобства передачи параметров"
      ]
    },
    {
      "cell_type": "code",
      "execution_count": 88,
      "id": "ttPhiO1rsvPq",
      "metadata": {
        "id": "ttPhiO1rsvPq"
      },
      "outputs": [
        {
          "name": "stderr",
          "output_type": "stream",
          "text": [
            "C:\\Users\\Professional\\AppData\\Local\\Temp\\ipykernel_9196\\3779922428.py:3: UserWarning: pandas only supports SQLAlchemy connectable (engine/connection) or database string URI or sqlite3 DBAPI2 connection. Other DBAPI2 objects are not tested. Please consider using SQLAlchemy.\n",
            "  df_5_7 = pd.read_sql_query(query_5_7, connection)\n"
          ]
        },
        {
          "data": {
            "text/html": [
              "<div>\n",
              "<style scoped>\n",
              "    .dataframe tbody tr th:only-of-type {\n",
              "        vertical-align: middle;\n",
              "    }\n",
              "\n",
              "    .dataframe tbody tr th {\n",
              "        vertical-align: top;\n",
              "    }\n",
              "\n",
              "    .dataframe thead th {\n",
              "        text-align: right;\n",
              "    }\n",
              "</style>\n",
              "<table border=\"1\" class=\"dataframe\">\n",
              "  <thead>\n",
              "    <tr style=\"text-align: right;\">\n",
              "      <th></th>\n",
              "      <th>Регионы-миллионники</th>\n",
              "      <th>Кол-во вакансий</th>\n",
              "    </tr>\n",
              "  </thead>\n",
              "  <tbody>\n",
              "    <tr>\n",
              "      <th>0</th>\n",
              "      <td>Омск</td>\n",
              "      <td>21</td>\n",
              "    </tr>\n",
              "    <tr>\n",
              "      <th>1</th>\n",
              "      <td>Челябинск</td>\n",
              "      <td>22</td>\n",
              "    </tr>\n",
              "    <tr>\n",
              "      <th>2</th>\n",
              "      <td>Красноярск</td>\n",
              "      <td>23</td>\n",
              "    </tr>\n",
              "    <tr>\n",
              "      <th>3</th>\n",
              "      <td>Волгоград</td>\n",
              "      <td>24</td>\n",
              "    </tr>\n",
              "    <tr>\n",
              "      <th>4</th>\n",
              "      <td>Пермь</td>\n",
              "      <td>25</td>\n",
              "    </tr>\n",
              "    <tr>\n",
              "      <th>5</th>\n",
              "      <td>Казань</td>\n",
              "      <td>25</td>\n",
              "    </tr>\n",
              "    <tr>\n",
              "      <th>6</th>\n",
              "      <td>Ростов-на-Дону</td>\n",
              "      <td>25</td>\n",
              "    </tr>\n",
              "    <tr>\n",
              "      <th>7</th>\n",
              "      <td>Уфа</td>\n",
              "      <td>26</td>\n",
              "    </tr>\n",
              "    <tr>\n",
              "      <th>8</th>\n",
              "      <td>Самара</td>\n",
              "      <td>26</td>\n",
              "    </tr>\n",
              "    <tr>\n",
              "      <th>9</th>\n",
              "      <td>Краснодар</td>\n",
              "      <td>30</td>\n",
              "    </tr>\n",
              "    <tr>\n",
              "      <th>10</th>\n",
              "      <td>Воронеж</td>\n",
              "      <td>32</td>\n",
              "    </tr>\n",
              "    <tr>\n",
              "      <th>11</th>\n",
              "      <td>Новосибирск</td>\n",
              "      <td>35</td>\n",
              "    </tr>\n",
              "    <tr>\n",
              "      <th>12</th>\n",
              "      <td>Нижний Новгород</td>\n",
              "      <td>36</td>\n",
              "    </tr>\n",
              "    <tr>\n",
              "      <th>13</th>\n",
              "      <td>Екатеринбург</td>\n",
              "      <td>39</td>\n",
              "    </tr>\n",
              "    <tr>\n",
              "      <th>14</th>\n",
              "      <td>Санкт-Петербург</td>\n",
              "      <td>42</td>\n",
              "    </tr>\n",
              "    <tr>\n",
              "      <th>15</th>\n",
              "      <td>Москва</td>\n",
              "      <td>54</td>\n",
              "    </tr>\n",
              "    <tr>\n",
              "      <th>16</th>\n",
              "      <td>Total</td>\n",
              "      <td>485</td>\n",
              "    </tr>\n",
              "  </tbody>\n",
              "</table>\n",
              "</div>"
            ],
            "text/plain": [
              "   Регионы-миллионники  Кол-во вакансий\n",
              "0                 Омск               21\n",
              "1            Челябинск               22\n",
              "2           Красноярск               23\n",
              "3            Волгоград               24\n",
              "4                Пермь               25\n",
              "5               Казань               25\n",
              "6       Ростов-на-Дону               25\n",
              "7                  Уфа               26\n",
              "8               Самара               26\n",
              "9            Краснодар               30\n",
              "10             Воронеж               32\n",
              "11         Новосибирск               35\n",
              "12     Нижний Новгород               36\n",
              "13        Екатеринбург               39\n",
              "14     Санкт-Петербург               42\n",
              "15              Москва               54\n",
              "16               Total              485"
            ]
          },
          "execution_count": 88,
          "metadata": {},
          "output_type": "execute_result"
        }
      ],
      "source": [
        "# результат запроса\n",
        "# Используем метод read_sql_query, чтобы получить результаты запроса сразу в виде датафрейма\n",
        "df_5_7 = pd.read_sql_query(query_5_7, connection)\n",
        "df_5_7"
      ]
    },
    {
      "cell_type": "markdown",
      "id": "04966e40-3bc3-4dc8-9ba2-e80580ce3abc",
      "metadata": {
        "id": "04966e40-3bc3-4dc8-9ba2-e80580ce3abc"
      },
      "source": [
        "***"
      ]
    },
    {
      "cell_type": "markdown",
      "id": "a9c20a83",
      "metadata": {},
      "source": [
        "# выводы по анализу работодателей\n",
        "По итогом проведеного анализа можно сказать\n",
        " - Компания Яндекс занимает первое место по количеству вакансий. Это указывает на значительное присутствие и активность компании на рынке труда.\n",
        " - В регионах, где нет вакансий, большинство работодателей находится в России, что может быть связано с ориентацией данных работодателей на местный рынок труда.\n",
        " - Выявлено 8419 работодателей, у которых не указана сфера деятельности. Это может указывать на неполную или некорректную заполненность данных в базе.\n",
        " - Компания \"Яндекс2 представила 485 вакансий в 16 городах-миллионниках. Это говорит о широком географическом охвате и наличии возможностей для трудоустройства в разных городах."
      ]
    },
    {
      "cell_type": "markdown",
      "id": "b1ef156a-efcb-49ce-bb23-90763e7f35b2",
      "metadata": {
        "id": "b1ef156a-efcb-49ce-bb23-90763e7f35b2",
        "tags": []
      },
      "source": [
        "# Юнит 6. Предметный анализ"
      ]
    },
    {
      "cell_type": "markdown",
      "id": "b9cd50a0-992d-4988-8463-2b2b1c4629b4",
      "metadata": {
        "id": "b9cd50a0-992d-4988-8463-2b2b1c4629b4"
      },
      "source": [
        "1. Сколько вакансий имеет отношение к данным?\n",
        "\n",
        "Считаем, что вакансия имеет отношение к данным, если в её названии содержатся слова 'data' или 'данн'.\n",
        "\n",
        "*Подсказка: Обратите внимание, что названия вакансий могут быть написаны в любом регистре.* \n"
      ]
    },
    {
      "cell_type": "code",
      "execution_count": 91,
      "id": "54ab0e50-c0f1-47cc-a54b-bc5c8bc363f9",
      "metadata": {
        "id": "54ab0e50-c0f1-47cc-a54b-bc5c8bc363f9"
      },
      "outputs": [],
      "source": [
        "# текст запроса\n",
        "query_6_1 = f'''SELECT\n",
        "                     COUNT(v.id) AS \"Кол-во вакансий, связанных с DS\" /*Просчитываем кол.-во вакансий по столбецу \"id\" из таблици v,*/\n",
        "                                                               /*данные заносим в созданый столбец \"Кол-во вакансий, связанных с DS\"*/\n",
        "                 FROM public.vacancies v /*Из схеме public таблицы \"vacancies\", задаём таблице алиас v*/\n",
        "                 WHERE lower(v.name) LIKE '%данн%' OR lower(v.name) LIKE '%data%' /*Указываем условия поиска названия вакансии, попутно приводя названия вакансий к единному регистру*/''' \n",
        "# Используем f-строки для удобства передачи параметров"
      ]
    },
    {
      "cell_type": "code",
      "execution_count": 92,
      "id": "9F1meAqsuUjd",
      "metadata": {
        "id": "9F1meAqsuUjd"
      },
      "outputs": [
        {
          "name": "stderr",
          "output_type": "stream",
          "text": [
            "C:\\Users\\Professional\\AppData\\Local\\Temp\\ipykernel_9196\\4147534520.py:3: UserWarning: pandas only supports SQLAlchemy connectable (engine/connection) or database string URI or sqlite3 DBAPI2 connection. Other DBAPI2 objects are not tested. Please consider using SQLAlchemy.\n",
            "  df_6_1 =pd.read_sql_query(query_6_1, connection)\n"
          ]
        },
        {
          "data": {
            "text/html": [
              "<div>\n",
              "<style scoped>\n",
              "    .dataframe tbody tr th:only-of-type {\n",
              "        vertical-align: middle;\n",
              "    }\n",
              "\n",
              "    .dataframe tbody tr th {\n",
              "        vertical-align: top;\n",
              "    }\n",
              "\n",
              "    .dataframe thead th {\n",
              "        text-align: right;\n",
              "    }\n",
              "</style>\n",
              "<table border=\"1\" class=\"dataframe\">\n",
              "  <thead>\n",
              "    <tr style=\"text-align: right;\">\n",
              "      <th></th>\n",
              "      <th>Кол-во вакансий, связанных с DS</th>\n",
              "    </tr>\n",
              "  </thead>\n",
              "  <tbody>\n",
              "    <tr>\n",
              "      <th>0</th>\n",
              "      <td>1771</td>\n",
              "    </tr>\n",
              "  </tbody>\n",
              "</table>\n",
              "</div>"
            ],
            "text/plain": [
              "   Кол-во вакансий, связанных с DS\n",
              "0                             1771"
            ]
          },
          "execution_count": 92,
          "metadata": {},
          "output_type": "execute_result"
        }
      ],
      "source": [
        "# результат запроса\n",
        "# Используем метод read_sql_query, чтобы получить результаты запроса сразу в виде датафрейма\n",
        "df_6_1 =pd.read_sql_query(query_6_1, connection)\n",
        "df_6_1"
      ]
    },
    {
      "cell_type": "markdown",
      "id": "4dea20cb-a36b-474a-a0b9-e08e8e3857a5",
      "metadata": {
        "id": "4dea20cb-a36b-474a-a0b9-e08e8e3857a5"
      },
      "source": [
        "2. Сколько есть подходящих вакансий для начинающего дата-сайентиста? \n",
        "Будем считать вакансиями для дата-сайентистов такие, в названии которых есть хотя бы одно из следующих сочетаний:\n",
        "* 'data scientist'\n",
        "* 'data science'\n",
        "* 'исследователь данных'\n",
        "* 'ML' (здесь не нужно брать вакансии по HTML)\n",
        "* 'machine learning'\n",
        "* 'машинн%обучен%'\n",
        "\n",
        "** В следующих заданиях мы продолжим работать с вакансиями по этому условию.*\n",
        "\n",
        "Считаем вакансиями для специалистов уровня Junior следующие:\n",
        "* в названии есть слово 'junior' *или*\n",
        "* требуемый опыт — Нет опыта *или*\n",
        "* тип трудоустройства — Стажировка.\n",
        " "
      ]
    },
    {
      "cell_type": "code",
      "execution_count": 93,
      "id": "9c61b3c0-bb66-46c9-ae1e-81d3f5752b4a",
      "metadata": {
        "id": "9c61b3c0-bb66-46c9-ae1e-81d3f5752b4a"
      },
      "outputs": [],
      "source": [
        "# текст запроса\n",
        "query_6_2 = f'''SELECT\n",
        "                     COUNT(v.id) AS \"Кол-во вакансий junior DS\" /*Просчитываем кол.-во вакансий по столбецу \"id\" из таблици v,*/\n",
        "                                                               /*данные заносим в созданый столбец \"Кол-во вакансий junior DS\"*/\n",
        "                 FROM public.vacancies v /*Из схеме public таблицы \"vacancies\", задаём таблице алиас v*/\n",
        "                 WHERE (lower(v.name) LIKE '%data scientist%' OR lower(v.name) LIKE '%data science%' OR lower(v.name) like '%исследователь данных%' \n",
        "                     OR (v.name LIKE '%ML%' AND v.name NOT LIKE '%HTML%') OR lower(v.name) LIKE '%machine learning%' OR lower(v.name) LIKE '%машинн%обучен%')\n",
        "                     AND (lower(v.name) LIKE '%junior%' OR lower(v.experience) LIKE '%нет опыта%' \n",
        "                     OR lower(v.experience) LIKE '%стажировка%') /*Указываем условия поиска названия вакансии и опыта работы, попутно приводя запрашиваемые данные к единному регистру*/'''\n",
        "# Используем f-строки для удобства передачи параметров"
      ]
    },
    {
      "cell_type": "code",
      "execution_count": 94,
      "id": "ZNM-LLYuu1dj",
      "metadata": {
        "id": "ZNM-LLYuu1dj"
      },
      "outputs": [
        {
          "name": "stderr",
          "output_type": "stream",
          "text": [
            "C:\\Users\\Professional\\AppData\\Local\\Temp\\ipykernel_9196\\3043554268.py:3: UserWarning: pandas only supports SQLAlchemy connectable (engine/connection) or database string URI or sqlite3 DBAPI2 connection. Other DBAPI2 objects are not tested. Please consider using SQLAlchemy.\n",
            "  df_6_2 =pd.read_sql_query(query_6_2, connection)\n"
          ]
        },
        {
          "data": {
            "text/html": [
              "<div>\n",
              "<style scoped>\n",
              "    .dataframe tbody tr th:only-of-type {\n",
              "        vertical-align: middle;\n",
              "    }\n",
              "\n",
              "    .dataframe tbody tr th {\n",
              "        vertical-align: top;\n",
              "    }\n",
              "\n",
              "    .dataframe thead th {\n",
              "        text-align: right;\n",
              "    }\n",
              "</style>\n",
              "<table border=\"1\" class=\"dataframe\">\n",
              "  <thead>\n",
              "    <tr style=\"text-align: right;\">\n",
              "      <th></th>\n",
              "      <th>Кол-во вакансий junior DS</th>\n",
              "    </tr>\n",
              "  </thead>\n",
              "  <tbody>\n",
              "    <tr>\n",
              "      <th>0</th>\n",
              "      <td>51</td>\n",
              "    </tr>\n",
              "  </tbody>\n",
              "</table>\n",
              "</div>"
            ],
            "text/plain": [
              "   Кол-во вакансий junior DS\n",
              "0                         51"
            ]
          },
          "execution_count": 94,
          "metadata": {},
          "output_type": "execute_result"
        }
      ],
      "source": [
        "# результат запроса\n",
        "# Используем метод read_sql_query, чтобы получить результаты запроса сразу в виде датафрейма\n",
        "df_6_2 =pd.read_sql_query(query_6_2, connection)\n",
        "df_6_2"
      ]
    },
    {
      "cell_type": "markdown",
      "id": "eedceb80-c5ca-480e-b27a-278dfb8b4438",
      "metadata": {
        "id": "eedceb80-c5ca-480e-b27a-278dfb8b4438"
      },
      "source": [
        "3. Сколько есть вакансий для DS, в которых в качестве ключевого навыка указан SQL или postgres?\n",
        "\n",
        "** Критерии для отнесения вакансии к DS указаны в предыдущем задании.*"
      ]
    },
    {
      "cell_type": "code",
      "execution_count": 95,
      "id": "69621713-0cc5-4f1b-a1d7-bb144fa6148c",
      "metadata": {
        "id": "69621713-0cc5-4f1b-a1d7-bb144fa6148c"
      },
      "outputs": [],
      "source": [
        "# текст запроса\n",
        "query_6_3 = f'''SELECT\n",
        "                     COUNT(v.id) AS \"Кол-во вакансий DS/SQL или postgres\"  /*Просчитываем кол.-во вакансий по столбецу \"id\" из таблици v,*/\n",
        "                                                                /*данные заносим в созданый столбец \"Кол-во вакансий DS/SQL или postgres\"*/\n",
        "                 FROM public.vacancies v /*Из схеме public таблицы \"vacancies\", задаём таблице алиас v*/\n",
        "                 WHERE (lower(v.name) LIKE '%data scientist%' OR lower(v.name) LIKE '%data science%' OR lower(v.name) like '%исследователь данных%' \n",
        "                     OR (v.name LIKE '%ML%' AND v.name NOT LIKE '%HTML%') OR lower(v.name) LIKE '%machine learning%' OR lower(v.name) LIKE '%машинн%обучен%')\n",
        "                     AND (v.key_skills LIKE '%SQL%' OR v.key_skills LIKE '%postgres%') /*Указываем условия поиска названия вакансии и навыкам,*/\n",
        "                                                                                      /*попутно приводя запрашиваемые данные к единному регистру*/'''\n",
        "# Используем f-строки для удобства передачи параметров"
      ]
    },
    {
      "cell_type": "code",
      "execution_count": 96,
      "id": "alA8WEAAvGdf",
      "metadata": {
        "id": "alA8WEAAvGdf"
      },
      "outputs": [
        {
          "name": "stderr",
          "output_type": "stream",
          "text": [
            "C:\\Users\\Professional\\AppData\\Local\\Temp\\ipykernel_9196\\2186801325.py:3: UserWarning: pandas only supports SQLAlchemy connectable (engine/connection) or database string URI or sqlite3 DBAPI2 connection. Other DBAPI2 objects are not tested. Please consider using SQLAlchemy.\n",
            "  df_6_3 =pd.read_sql_query(query_6_3, connection)\n"
          ]
        },
        {
          "data": {
            "text/html": [
              "<div>\n",
              "<style scoped>\n",
              "    .dataframe tbody tr th:only-of-type {\n",
              "        vertical-align: middle;\n",
              "    }\n",
              "\n",
              "    .dataframe tbody tr th {\n",
              "        vertical-align: top;\n",
              "    }\n",
              "\n",
              "    .dataframe thead th {\n",
              "        text-align: right;\n",
              "    }\n",
              "</style>\n",
              "<table border=\"1\" class=\"dataframe\">\n",
              "  <thead>\n",
              "    <tr style=\"text-align: right;\">\n",
              "      <th></th>\n",
              "      <th>Кол-во вакансий DS/SQL или postgres</th>\n",
              "    </tr>\n",
              "  </thead>\n",
              "  <tbody>\n",
              "    <tr>\n",
              "      <th>0</th>\n",
              "      <td>201</td>\n",
              "    </tr>\n",
              "  </tbody>\n",
              "</table>\n",
              "</div>"
            ],
            "text/plain": [
              "   Кол-во вакансий DS/SQL или postgres\n",
              "0                                  201"
            ]
          },
          "execution_count": 96,
          "metadata": {},
          "output_type": "execute_result"
        }
      ],
      "source": [
        "# результат запроса\n",
        "# Используем метод read_sql_query, чтобы получить результаты запроса сразу в виде датафрейма\n",
        "df_6_3 =pd.read_sql_query(query_6_3, connection)\n",
        "df_6_3"
      ]
    },
    {
      "cell_type": "markdown",
      "id": "1be1e9c6-37cf-4a5f-bfeb-04cab799dc80",
      "metadata": {
        "id": "1be1e9c6-37cf-4a5f-bfeb-04cab799dc80"
      },
      "source": [
        "4. Проверьте, насколько популярен Python в требованиях работодателей к DS.Для этого вычислите количество вакансий, в которых в качестве ключевого навыка указан Python.\n",
        "\n",
        "** Это можно сделать помощью запроса, аналогичного предыдущему.*"
      ]
    },
    {
      "cell_type": "code",
      "execution_count": 97,
      "id": "0036a355-9ccf-4564-8b01-73d8194297e7",
      "metadata": {
        "id": "0036a355-9ccf-4564-8b01-73d8194297e7"
      },
      "outputs": [],
      "source": [
        "# текст запроса\n",
        "query_6_4 = f'''SELECT\n",
        "                     COUNT(v.id) AS \"Кол-во вакансий DS/Python\" /*Просчитываем кол.-во вакансий по столбецу \"id\" из таблици v,*/\n",
        "                                                                /*данные заносим в созданый столбец \"Кол-во вакансий DS/Python\"*/\n",
        "                 FROM public.vacancies v /*Из схеме public таблицы \"vacancies\", задаём таблице алиас v*/\n",
        "                 WHERE (lower(v.name) LIKE '%data scientist%' OR lower(v.name) LIKE '%data science%' OR lower(v.name) like '%исследователь данных%' \n",
        "                     OR (v.name LIKE '%ML%' AND v.name NOT LIKE '%HTML%') OR lower(v.name) LIKE '%machine learning%' OR lower(v.name) LIKE '%машинн%обучен%')\n",
        "                     AND v.key_skills LIKE '%Python%' /*Указываем условия поиска названия вакансии и навыки работы с Python,*/\n",
        "                                                      /*попутно приводя запрашиваемые данные к единному регистру*/'''\n",
        "# Используем f-строки для удобства передачи параметров"
      ]
    },
    {
      "cell_type": "code",
      "execution_count": 98,
      "id": "1i-5WyucvQ6v",
      "metadata": {
        "id": "1i-5WyucvQ6v"
      },
      "outputs": [
        {
          "name": "stderr",
          "output_type": "stream",
          "text": [
            "C:\\Users\\Professional\\AppData\\Local\\Temp\\ipykernel_9196\\1290520132.py:3: UserWarning: pandas only supports SQLAlchemy connectable (engine/connection) or database string URI or sqlite3 DBAPI2 connection. Other DBAPI2 objects are not tested. Please consider using SQLAlchemy.\n",
            "  df_6_4 =pd.read_sql_query(query_6_4, connection)\n"
          ]
        },
        {
          "data": {
            "text/html": [
              "<div>\n",
              "<style scoped>\n",
              "    .dataframe tbody tr th:only-of-type {\n",
              "        vertical-align: middle;\n",
              "    }\n",
              "\n",
              "    .dataframe tbody tr th {\n",
              "        vertical-align: top;\n",
              "    }\n",
              "\n",
              "    .dataframe thead th {\n",
              "        text-align: right;\n",
              "    }\n",
              "</style>\n",
              "<table border=\"1\" class=\"dataframe\">\n",
              "  <thead>\n",
              "    <tr style=\"text-align: right;\">\n",
              "      <th></th>\n",
              "      <th>Кол-во вакансий DS/Python</th>\n",
              "    </tr>\n",
              "  </thead>\n",
              "  <tbody>\n",
              "    <tr>\n",
              "      <th>0</th>\n",
              "      <td>351</td>\n",
              "    </tr>\n",
              "  </tbody>\n",
              "</table>\n",
              "</div>"
            ],
            "text/plain": [
              "   Кол-во вакансий DS/Python\n",
              "0                        351"
            ]
          },
          "execution_count": 98,
          "metadata": {},
          "output_type": "execute_result"
        }
      ],
      "source": [
        "# результат запроса\n",
        "# Используем метод read_sql_query, чтобы получить результаты запроса сразу в виде датафрейма\n",
        "df_6_4 =pd.read_sql_query(query_6_4, connection)\n",
        "df_6_4"
      ]
    },
    {
      "cell_type": "markdown",
      "id": "ec3c8db7-fa21-4a41-a994-1af63742a642",
      "metadata": {
        "id": "ec3c8db7-fa21-4a41-a994-1af63742a642"
      },
      "source": [
        "5. Сколько ключевых навыков в среднем указывают в вакансиях для DS?\n",
        "Ответ округлите до двух знаков после точки-разделителя."
      ]
    },
    {
      "cell_type": "code",
      "execution_count": 99,
      "id": "949132bc-d5b6-4611-8218-0b9a504d74f4",
      "metadata": {
        "id": "949132bc-d5b6-4611-8218-0b9a504d74f4"
      },
      "outputs": [],
      "source": [
        "# текст запроса\n",
        "query_6_5 = f'''SELECT\n",
        "                     round(AVG(LENGTH(v.key_skills) - LENGTH(REPLACE(v.key_skills, chr(9), '')) + 1), 2) \n",
        "                     AS \"Среднее кол-во ключевых навыков\" /*Просчитываем среднее кол.-во  необходимых навыков в вакансиях DS,*/\n",
        "                                                        /*данные заносим в созданый столбец \"Среднее кол-во ключевых навыков\"*/\n",
        "                 FROM public.vacancies v /*Из схеме public таблицы \"vacancies\", задаём таблице алиас v*/\n",
        "                 WHERE (lower(v.name) LIKE '%data scientist%' OR lower(v.name) LIKE '%data science%' OR lower(v.name) like '%исследователь данных%' \n",
        "                     OR (v.name LIKE '%ML%' AND v.name NOT LIKE '%HTML%') OR lower(v.name) LIKE '%machine learning%' \n",
        "                     OR lower(v.name) LIKE '%машинн%обучен%')/*Указываем условия поиска названия вакансии, попутно приводя запрашиваемые данные к единному регистру*/'''\n",
        "# Используем f-строки для удобства передачи параметров"
      ]
    },
    {
      "cell_type": "code",
      "execution_count": 100,
      "id": "a3V24Tvmviqk",
      "metadata": {
        "id": "a3V24Tvmviqk"
      },
      "outputs": [
        {
          "name": "stderr",
          "output_type": "stream",
          "text": [
            "C:\\Users\\Professional\\AppData\\Local\\Temp\\ipykernel_9196\\1519424183.py:3: UserWarning: pandas only supports SQLAlchemy connectable (engine/connection) or database string URI or sqlite3 DBAPI2 connection. Other DBAPI2 objects are not tested. Please consider using SQLAlchemy.\n",
            "  df_6_5 =pd.read_sql_query(query_6_5, connection)\n"
          ]
        },
        {
          "data": {
            "text/html": [
              "<div>\n",
              "<style scoped>\n",
              "    .dataframe tbody tr th:only-of-type {\n",
              "        vertical-align: middle;\n",
              "    }\n",
              "\n",
              "    .dataframe tbody tr th {\n",
              "        vertical-align: top;\n",
              "    }\n",
              "\n",
              "    .dataframe thead th {\n",
              "        text-align: right;\n",
              "    }\n",
              "</style>\n",
              "<table border=\"1\" class=\"dataframe\">\n",
              "  <thead>\n",
              "    <tr style=\"text-align: right;\">\n",
              "      <th></th>\n",
              "      <th>Среднее кол-во ключевых навыков</th>\n",
              "    </tr>\n",
              "  </thead>\n",
              "  <tbody>\n",
              "    <tr>\n",
              "      <th>0</th>\n",
              "      <td>6.41</td>\n",
              "    </tr>\n",
              "  </tbody>\n",
              "</table>\n",
              "</div>"
            ],
            "text/plain": [
              "   Среднее кол-во ключевых навыков\n",
              "0                             6.41"
            ]
          },
          "execution_count": 100,
          "metadata": {},
          "output_type": "execute_result"
        }
      ],
      "source": [
        "# результат запроса\n",
        "# Используем метод read_sql_query, чтобы получить результаты запроса сразу в виде датафрейма\n",
        "df_6_5 =pd.read_sql_query(query_6_5, connection)\n",
        "df_6_5"
      ]
    },
    {
      "cell_type": "markdown",
      "id": "1041c17a-ca8f-4543-a0ca-32778914fb00",
      "metadata": {
        "id": "1041c17a-ca8f-4543-a0ca-32778914fb00"
      },
      "source": [
        "6. Напишите запрос, позволяющий вычислить, какую зарплату для DS в **среднем** указывают для каждого типа требуемого опыта (уникальное значение из поля *experience*). \n",
        "\n",
        "При решении задачи примите во внимание следующее:\n",
        "1. Рассматриваем только вакансии, у которых заполнено хотя бы одно из двух полей с зарплатой.\n",
        "2. Если заполнены оба поля с зарплатой, то считаем зарплату по каждой вакансии как сумму двух полей, делённую на 2. Если заполнено только одно из полей, то его и считаем зарплатой по вакансии.\n",
        "3. Если в расчётах участвует null, в результате он тоже даст null (посмотрите, что возвращает запрос select 1 + null). Чтобы избежать этой ситуацию, мы воспользуемся функцией [coalesce](https://postgrespro.ru/docs/postgresql/9.5/functions-conditional#functions-coalesce-nvl-ifnull), которая заменит null на значение, которое мы передадим. Например, посмотрите, что возвращает запрос `select 1 + coalesce(null, 0)`\n",
        "\n",
        "Выясните, на какую зарплату в среднем может рассчитывать дата-сайентист с опытом работы от 3 до 6 лет. Результат округлите до целого числа. "
      ]
    },
    {
      "cell_type": "code",
      "execution_count": 101,
      "id": "6a743d39-5204-48d3-8271-b9f88e68d40e",
      "metadata": {
        "id": "6a743d39-5204-48d3-8271-b9f88e68d40e"
      },
      "outputs": [],
      "source": [
        "# текст запроса\n",
        "query_6_6 = f'''SELECT\n",
        "                     round(AVG(COALESCE((v.salary_to + v.salary_from)/2, v.salary_to, v.salary_from))) \n",
        "                     AS \"Средняя з/п специалиста DS с опытом от 3 до 6 лет\" /*Расчитываем среднюю з/п специалиста DS с опытом от 3 до 6 лет,*/\n",
        "                                                    /*данные заносим в созданый столбец \"Средняя з/п специалиста DS с опытом от 3 до 6 лет\"*/\n",
        "                 FROM public.vacancies v /*Из схеме public таблицы \"vacancies\", задаём таблице алиас v*/\n",
        "                 WHERE (lower(v.name) LIKE '%data scientist%' OR lower(v.name) LIKE '%data science%' OR lower(v.name) like '%исследователь данных%' \n",
        "                     OR (v.name LIKE '%ML%' AND v.name NOT LIKE '%HTML%') OR lower(v.name) LIKE '%machine learning%' OR lower(v.name) LIKE '%машинн%обучен%')\n",
        "                     AND (v.salary_to IS NOT NULL OR v.salary_from IS NOT NULL) \n",
        "                     AND v.experience = 'От 3 до 6 лет' /*Указываем условия поиска попутно приводя запрашиваемые данные к единному регистру*/'''\n",
        "\n",
        "# Используем f-строки для удобства передачи параметров"
      ]
    },
    {
      "cell_type": "code",
      "execution_count": 102,
      "id": "aRIJ0mZEwU1_",
      "metadata": {
        "id": "aRIJ0mZEwU1_"
      },
      "outputs": [
        {
          "name": "stderr",
          "output_type": "stream",
          "text": [
            "C:\\Users\\Professional\\AppData\\Local\\Temp\\ipykernel_9196\\3769920193.py:3: UserWarning: pandas only supports SQLAlchemy connectable (engine/connection) or database string URI or sqlite3 DBAPI2 connection. Other DBAPI2 objects are not tested. Please consider using SQLAlchemy.\n",
            "  df_6_6 =pd.read_sql_query(query_6_6, connection)\n"
          ]
        },
        {
          "data": {
            "text/html": [
              "<div>\n",
              "<style scoped>\n",
              "    .dataframe tbody tr th:only-of-type {\n",
              "        vertical-align: middle;\n",
              "    }\n",
              "\n",
              "    .dataframe tbody tr th {\n",
              "        vertical-align: top;\n",
              "    }\n",
              "\n",
              "    .dataframe thead th {\n",
              "        text-align: right;\n",
              "    }\n",
              "</style>\n",
              "<table border=\"1\" class=\"dataframe\">\n",
              "  <thead>\n",
              "    <tr style=\"text-align: right;\">\n",
              "      <th></th>\n",
              "      <th>Средняя з/п специалиста DS с опытом</th>\n",
              "    </tr>\n",
              "  </thead>\n",
              "  <tbody>\n",
              "    <tr>\n",
              "      <th>0</th>\n",
              "      <td>243115.0</td>\n",
              "    </tr>\n",
              "  </tbody>\n",
              "</table>\n",
              "</div>"
            ],
            "text/plain": [
              "   Средняя з/п специалиста DS с опытом \n",
              "0                              243115.0"
            ]
          },
          "execution_count": 102,
          "metadata": {},
          "output_type": "execute_result"
        }
      ],
      "source": [
        "# результат запроса\n",
        "# Используем метод read_sql_query, чтобы получить результаты запроса сразу в виде датафрейма\n",
        "df_6_6 =pd.read_sql_query(query_6_6, connection)\n",
        "df_6_6"
      ]
    },
    {
      "cell_type": "markdown",
      "id": "6a7892b4-4113-4746-adce-18aa2844f18e",
      "metadata": {
        "id": "6a7892b4-4113-4746-adce-18aa2844f18e"
      },
      "source": [
        "***"
      ]
    },
    {
      "cell_type": "markdown",
      "id": "9f2b7b0b",
      "metadata": {},
      "source": [
        "# выводы по предметному анализу\n",
        "Согласно проведеному анализу вакансий DS можно сделать следующие выводы\n",
        " - Количество вакансий, завязаных на работы с данными, составляет 1771. Это указывает на наличие спроса на специалистов в data science.\n",
        " - Существует 51 подходящая вакансия для начинающего специалиста, что дает возможность для новичков в этой области найти работу и начать свою карьеру.\n",
        " - Количество вакансий для DS-специолистов, где SQL или postgre указаны в качестве ключевых навыков, составляет 201. Это указывает на важность знания SQL или postgre для работы в этой области и требования работодателей в этом отношении.\n",
        " - Количество вакансий, где Python указывается в качестве ключевого навыка, составляет 351. Это говорит о том, что знание Python востребовано у работодателя и является преимушеством соискателя.\n",
        " - Среднее количество ключевых навыков для дата-сайентиста составляет более 6. Это говорит о том, что в этой области требуются специалисты с широким спектром навыков и компетенций.\n",
        " - Средняя зарплата для дата-сайентиста с опытом работы от 3 до 6 лет составляет 243115, указывая на то, что опытные специалисты в этой области могут рассчитывать на высокую заработную плату. "
      ]
    },
    {
      "cell_type": "markdown",
      "id": "c0ED6fh7wiBT",
      "metadata": {
        "id": "c0ED6fh7wiBT"
      },
      "source": [
        "# Общий вывод по проекту"
      ]
    },
    {
      "cell_type": "markdown",
      "id": "42462fd9",
      "metadata": {},
      "source": [
        "Прежде чем преступить к обобщению полученых результатов проведем еще несколько допольнитедьных анализов имеющихся даных"
      ]
    },
    {
      "cell_type": "markdown",
      "id": "e1a6b8a7",
      "metadata": {},
      "source": [
        "Д.1 Анализ количества работодателей по сферам деятельности. Выведем первую тройку сфер деятельности по количеству работодателей."
      ]
    },
    {
      "cell_type": "code",
      "execution_count": 110,
      "id": "75ca3703",
      "metadata": {},
      "outputs": [
        {
          "name": "stderr",
          "output_type": "stream",
          "text": [
            "C:\\Users\\Professional\\AppData\\Local\\Temp\\ipykernel_9196\\250438586.py:15: UserWarning: pandas only supports SQLAlchemy connectable (engine/connection) or database string URI or sqlite3 DBAPI2 connection. Other DBAPI2 objects are not tested. Please consider using SQLAlchemy.\n",
            "  df_d_1 =pd.read_sql_query(query_d_1, connection)\n"
          ]
        },
        {
          "data": {
            "text/html": [
              "<div>\n",
              "<style scoped>\n",
              "    .dataframe tbody tr th:only-of-type {\n",
              "        vertical-align: middle;\n",
              "    }\n",
              "\n",
              "    .dataframe tbody tr th {\n",
              "        vertical-align: top;\n",
              "    }\n",
              "\n",
              "    .dataframe thead th {\n",
              "        text-align: right;\n",
              "    }\n",
              "</style>\n",
              "<table border=\"1\" class=\"dataframe\">\n",
              "  <thead>\n",
              "    <tr style=\"text-align: right;\">\n",
              "      <th></th>\n",
              "      <th>Сфера деятельности</th>\n",
              "      <th>Количество работодателей</th>\n",
              "    </tr>\n",
              "  </thead>\n",
              "  <tbody>\n",
              "    <tr>\n",
              "      <th>0</th>\n",
              "      <td>Разработка программного обеспечения</td>\n",
              "      <td>3553</td>\n",
              "    </tr>\n",
              "    <tr>\n",
              "      <th>1</th>\n",
              "      <td>Системная интеграция,  автоматизации технологи...</td>\n",
              "      <td>2993</td>\n",
              "    </tr>\n",
              "    <tr>\n",
              "      <th>2</th>\n",
              "      <td>Интернет-компания (поисковики, платежные систе...</td>\n",
              "      <td>1675</td>\n",
              "    </tr>\n",
              "  </tbody>\n",
              "</table>\n",
              "</div>"
            ],
            "text/plain": [
              "                                  Сфера деятельности  Количество работодателей\n",
              "0                Разработка программного обеспечения                      3553\n",
              "1  Системная интеграция,  автоматизации технологи...                      2993\n",
              "2  Интернет-компания (поисковики, платежные систе...                      1675"
            ]
          },
          "execution_count": 110,
          "metadata": {},
          "output_type": "execute_result"
        }
      ],
      "source": [
        "# текст запроса\n",
        "query_d_1 = f'''SELECT\n",
        "                    i.name AS \"Сфера деятельности\", /*Выбираем сферы деятельности по столбецу \"name\" из таблици i,*/\n",
        "                                                    /*данные заносим в созданый столбец \"Сфера деятельности\"*/   \n",
        "                    COUNT(DISTINCT ei.employer_id) AS \"Количество работодателей\" /*Подсчитываем кол.-во работодателей по столбцу \"employer_id\" из таблици ei,*/\n",
        "                                                                                 /*данные заносим в созданый столбец \"Количество работодателей\"*/\n",
        "                 FROM public.employers_industries ei /*Из схеме public таблицы \"employers_industries\", задаём таблице алиас ei*/\n",
        "                 JOIN public.industries i ON ei.industry_id = i.id /*Внутреннее присоединение из схемы public таблицы industries,*/\n",
        "                                                                    /*задав ей алиас i, по ключам id и industry_id*/\n",
        "                 GROUP BY 1 /*Группируем по столбцу \"Сфера деятельности\"*/ \n",
        "                 ORDER BY 2 DESC /*Сортируем по столбцу \"Количество работодателей\" в порядке убывания*/\n",
        "                 LIMIT 3 /*Выводим первые три строки*/'''\n",
        "# Используем f-строки для удобства передачи параметров\n",
        "# Для вывода запроса используем метод read_sql_query, чтобы получить результаты сразу в виде датафрейма\n",
        "df_d_1 =pd.read_sql_query(query_d_1, connection)\n",
        "df_d_1"
      ]
    },
    {
      "cell_type": "markdown",
      "id": "f7cfa74b",
      "metadata": {},
      "source": [
        "Д.2 Проведём анализ количества вакансий по сферам деятельности. Выведем первую тройку сфер деятельности по количеству вакансий."
      ]
    },
    {
      "cell_type": "code",
      "execution_count": 111,
      "id": "a5831773",
      "metadata": {},
      "outputs": [
        {
          "name": "stderr",
          "output_type": "stream",
          "text": [
            "C:\\Users\\Professional\\AppData\\Local\\Temp\\ipykernel_9196\\1436291614.py:17: UserWarning: pandas only supports SQLAlchemy connectable (engine/connection) or database string URI or sqlite3 DBAPI2 connection. Other DBAPI2 objects are not tested. Please consider using SQLAlchemy.\n",
            "  df =pd.read_sql_query(query_7_1, connection)\n"
          ]
        },
        {
          "data": {
            "text/html": [
              "<div>\n",
              "<style scoped>\n",
              "    .dataframe tbody tr th:only-of-type {\n",
              "        vertical-align: middle;\n",
              "    }\n",
              "\n",
              "    .dataframe tbody tr th {\n",
              "        vertical-align: top;\n",
              "    }\n",
              "\n",
              "    .dataframe thead th {\n",
              "        text-align: right;\n",
              "    }\n",
              "</style>\n",
              "<table border=\"1\" class=\"dataframe\">\n",
              "  <thead>\n",
              "    <tr style=\"text-align: right;\">\n",
              "      <th></th>\n",
              "      <th>Сфера деятельности</th>\n",
              "      <th>Количество вакансий</th>\n",
              "    </tr>\n",
              "  </thead>\n",
              "  <tbody>\n",
              "    <tr>\n",
              "      <th>0</th>\n",
              "      <td>Разработка программного обеспечения</td>\n",
              "      <td>12499</td>\n",
              "    </tr>\n",
              "    <tr>\n",
              "      <th>1</th>\n",
              "      <td>Системная интеграция,  автоматизации технологи...</td>\n",
              "      <td>11034</td>\n",
              "    </tr>\n",
              "    <tr>\n",
              "      <th>2</th>\n",
              "      <td>Интернет-компания (поисковики, платежные систе...</td>\n",
              "      <td>6413</td>\n",
              "    </tr>\n",
              "  </tbody>\n",
              "</table>\n",
              "</div>"
            ],
            "text/plain": [
              "                                  Сфера деятельности  Количество вакансий\n",
              "0                Разработка программного обеспечения                12499\n",
              "1  Системная интеграция,  автоматизации технологи...                11034\n",
              "2  Интернет-компания (поисковики, платежные систе...                 6413"
            ]
          },
          "execution_count": 111,
          "metadata": {},
          "output_type": "execute_result"
        }
      ],
      "source": [
        "# текст запроса\n",
        "query_7_1 = f'''SELECT\n",
        "                         i.name AS \"Сфера деятельности\", /*Выбираем сферы деятельности по столбецу \"name\" из таблици i,*/\n",
        "                                                         /*данные заносим в созданый столбец \"Сфера деятельности\"*/   \n",
        "                         COUNT(v.id) AS \"Количество вакансий\" /*Подсчитываем кол.-во вакансий по столбцу \"id\" из таблици v,*/\n",
        "                                                         /*данные заносим в созданый столбец \"Количество вакансий\"*/\n",
        "                 FROM industries i /*Из схеме public таблицы \"industries\", задаём таблице алиас i*/\n",
        "                 JOIN employers_industries ei ON i.id = ei.industry_id /*Внутреннее присоединение из схемы public таблицы employers_industries,*/\n",
        "                                                                    /*задав ей алиас ei, по ключам id и industry_id*/\n",
        "                 JOIN vacancies v ON ei.employer_id = v.employer_id /*Внутреннее присоединение из схемы public таблицы vacancies,*/\n",
        "                                                                    /*задав ей алиас v, по ключам employer_id и employer_id*/\n",
        "                 GROUP BY 1 /*Группируем по столбцу \"Сфера деятельности\"*/ \n",
        "                 ORDER BY 2 DESC /*Сортируем по столбцу \"Количество вакансий\" в порядке убывания*/\n",
        "                 LIMIT 3 /*Выводим первые три строки*/'''\n",
        "# Используем f-строки для удобства передачи параметров\n",
        "# Для вывода запроса используем метод read_sql_query, чтобы получить результаты сразу в виде датафрейма                 \n",
        "df =pd.read_sql_query(query_7_1, connection)\n",
        "df"
      ]
    },
    {
      "cell_type": "code",
      "execution_count": 112,
      "id": "43c7c83d",
      "metadata": {},
      "outputs": [],
      "source": [
        "#закрываем соединение после окончания работы\n",
        "connection.close()"
      ]
    },
    {
      "cell_type": "markdown",
      "id": "918b8026",
      "metadata": {},
      "source": [
        "Выводы по дополнительным исследованиям:\n",
        "- Большое количество работодателей (3553) в сфере \"Разработка программного обеспечения\" порождает и большое количество вакансий даного напровления (12499), но это также указывает и на больной спрос специолистов в этой области и наличие множества компаний, занимающихся разработкой программного обеспечения.\n",
        " - Сдедующей сферой со значительным количеством работодателей (2993) и вакансий (11034) являеться \"Системная интеграция, автоматизации технологий\", говорит о том, что автоматизация технологических процессов и системная интеграция являются востребованными и перспективными областями.\n",
        " - Сфера деятельности \"Интернет-компания (поисковики, платежные системы и другие)\" имеет меньшее количество вакансий (6413) и работодателей (1675) по сравнению с предыдущими двумя сферами. Однако она все равно представляет собой значительную долю рынка труда и может предоставлять интересные для трудоустройства."
      ]
    },
    {
      "cell_type": "markdown",
      "id": "ba53c429",
      "metadata": {},
      "source": [
        "# подведем итог исследования, обобщите выводы\n",
        "\n",
        "Обобщая полученые данные можно сказать\n",
        " - Выборка содержит 49197 вакансий, представлен 23501 работодатель, содержится информация о 1362 регионах по 294 сферам деятельности.\n",
        " - Лидерами по количеству вакансий являются мегаполисы, выделяя их значимость на рынке труда и развитость как центров бизнеса и экономики.\n",
        " - Среднее значение для нижней зарплатной вилки составляет 71065, а для верхней зарплатной вилки - 110537.\n",
        " - Опыт работы от 1 года до 3 лет является наиболее востребованным.\n",
        " - Полная занятость является наиболее популярным типом занятости.\n",
        " - Регионом с отсудствующими вакансиями, но большим кол.-вом работодателей является Россия, что указывает на ориентацию работодателей данного региона на местный рынок труда.\n",
        " - Компания \"Яндекс\" занимает первое место по количеству вакансий.\n",
        " - Полная занятость является наиболее популярным типом занятости.\n",
        " - Кол.-во вакансий, связанных с работой с данными, составляет 1771, из которых вакансии с навыками работы в Python составляет 351. Среднее же значение навыков для DS-сайентиста составляет более 6, сам же соискатель с опытом работы от 3 лет может расчитывать в среднем на зарплату в 243115 руб. При этом вакансий для молодых специолистов мало всего 51 вакансия.\n",
        " - Сфера деятельности \"Разработка программного обеспечения\" имеет наибольшее количество вакансий - 12499 и наибольшее количество работодателей - 3553.\n",
        "\n",
        " (Все расчеты приведены на момент создания предоставленых таблиц)"
      ]
    }
  ],
  "metadata": {
    "colab": {
      "collapsed_sections": [
        "8d62a9f3-f64e-4fe7-bdac-c4dffa16155e"
      ],
      "provenance": []
    },
    "kernelspec": {
      "display_name": "Python 3 (ipykernel)",
      "language": "python",
      "name": "python3"
    },
    "language_info": {
      "codemirror_mode": {
        "name": "ipython",
        "version": 3
      },
      "file_extension": ".py",
      "mimetype": "text/x-python",
      "name": "python",
      "nbconvert_exporter": "python",
      "pygments_lexer": "ipython3",
      "version": "3.9.13"
    }
  },
  "nbformat": 4,
  "nbformat_minor": 5
}
